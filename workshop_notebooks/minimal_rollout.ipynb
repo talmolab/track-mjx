{
 "cells": [
  {
   "cell_type": "markdown",
   "metadata": {},
   "source": [
    "# Generates Rollout for existing Checkpoint\n",
    "\n",
    "This notebook will demonstrate the clean usage of the `track_mjx.analysis.rollout` module, which allows user to load the checkpoint from the previous training run, and perform a rollout of the checkpoint. This module abstracted away all the boilerplate codes for initializing the environment, and it is very clean and digestible, while customizable.\n",
    "\n",
    "### Step 1: Imports and recover the config"
   ]
  },
  {
   "cell_type": "code",
   "execution_count": 5,
   "metadata": {},
   "outputs": [
    {
     "name": "stdout",
     "output_type": "stream",
     "text": [
      "env: MUJOCO_GL=egl\n",
      "env: PYOPENGL_PLATFORM=egl\n",
      "The autoreload extension is already loaded. To reload it, use:\n",
      "  %reload_ext autoreload\n",
      "latest checkpoint step: 149\n"
     ]
    }
   ],
   "source": [
    "# set environment variables for rendering\n",
    "%env MUJOCO_GL=egl\n",
    "%env PYOPENGL_PLATFORM=egl\n",
    "%matplotlib inline\n",
    "%load_ext autoreload\n",
    "%autoreload 2\n",
    "\n",
    "from omegaconf import OmegaConf\n",
    "from track_mjx.analysis.rollout import (\n",
    "    restore_config,\n",
    "    create_rollout_generator,\n",
    "    create_environment,\n",
    "    create_inference_fn,\n",
    ")\n",
    "from jax import numpy as jp\n",
    "\n",
    "# save and load\n",
    "from track_mjx.analysis.utils import save_to_h5py\n",
    "import h5py\n",
    "from tqdm import tqdm\n",
    "\n",
    "from IPython.display import clear_output\n",
    "\n",
    "# recover the config\n",
    "# ckpt_path = \"/root/vast/scott-yang/track-mjx/model_checkpoints/rodent_data/ReferenceClip.p_250127_062443\"  # replace with your checkpoint path\n",
    "# ckpt_path = \"/root/vast/kaiwen/track-mjx/model_checkpoints/fly_data/FlyReferenceClipFull.p_250130_061146\"\n",
    "config = restore_config(ckpt_path)\n",
    "cfg = OmegaConf.create(config)\n",
    "\n",
    "# make some changes to the config\n",
    "# replace with absolute path to your data\n",
    "# -- your notebook may not have access to the same relative path\n",
    "# cfg.data_path = \"/root/vast/scott-yang/track-mjx/data/ReferenceClip.p\"\n",
    "cfg.data_path = \"/root/vast/kaiwen/track-mjx/data/FlyReferenceClipFull.p\"\n",
    "cfg.train_setup.checkpoint_to_restore = ckpt_path"
   ]
  },
  {
   "cell_type": "markdown",
   "metadata": {},
   "source": [
    "### Step 2: Restore policy and make rollout functions"
   ]
  },
  {
   "cell_type": "code",
   "execution_count": 6,
   "metadata": {},
   "outputs": [
    {
     "name": "stdout",
     "output_type": "stream",
     "text": [
      "env._steps_for_cur_frame: 2.0\n"
     ]
    },
    {
     "ename": "TypeError",
     "evalue": "add got incompatible shapes for broadcasting: (43,), (74,).",
     "output_type": "error",
     "traceback": [
      "\u001b[0;31m---------------------------------------------------------------------------\u001b[0m",
      "\u001b[0;31mTypeError\u001b[0m                                 Traceback (most recent call last)",
      "Cell \u001b[0;32mIn[6], line 2\u001b[0m\n\u001b[1;32m      1\u001b[0m env \u001b[38;5;241m=\u001b[39m create_environment(cfg)\n\u001b[0;32m----> 2\u001b[0m inference_fn \u001b[38;5;241m=\u001b[39m \u001b[43mcreate_inference_fn\u001b[49m\u001b[43m(\u001b[49m\u001b[43menv\u001b[49m\u001b[43m,\u001b[49m\u001b[43m \u001b[49m\u001b[43mcfg\u001b[49m\u001b[43m)\u001b[49m\n\u001b[1;32m      3\u001b[0m generate_rollout \u001b[38;5;241m=\u001b[39m create_rollout_generator(cfg[\u001b[38;5;124m\"\u001b[39m\u001b[38;5;124mreference_config\u001b[39m\u001b[38;5;124m\"\u001b[39m], env, inference_fn)\n",
      "File \u001b[0;32m~/vast/kaiwen/track-mjx/track_mjx/analysis/rollout.py:193\u001b[0m, in \u001b[0;36mcreate_inference_fn\u001b[0;34m(environment, cfg_dict)\u001b[0m\n\u001b[1;32m    191\u001b[0m \u001b[38;5;28;01mdef\u001b[39;00m \u001b[38;5;21mcreate_inference_fn\u001b[39m(environment: Env, cfg_dict: Dict \u001b[38;5;241m|\u001b[39m DictConfig) \u001b[38;5;241m-\u001b[39m\u001b[38;5;241m>\u001b[39m Callable:\n\u001b[1;32m    192\u001b[0m     rollout_env \u001b[38;5;241m=\u001b[39m custom_wrappers\u001b[38;5;241m.\u001b[39mRenderRolloutWrapperTracking(environment)\n\u001b[0;32m--> 193\u001b[0m     abstract_policy, make_policy \u001b[38;5;241m=\u001b[39m \u001b[43mcreate_abstract_policy\u001b[49m\u001b[43m(\u001b[49m\u001b[43mrollout_env\u001b[49m\u001b[43m,\u001b[49m\u001b[43m \u001b[49m\u001b[43mcfg_dict\u001b[49m\u001b[43m)\u001b[49m\n\u001b[1;32m    194\u001b[0m     \u001b[38;5;66;03m# load the checkpoint\u001b[39;00m\n\u001b[1;32m    195\u001b[0m     policy \u001b[38;5;241m=\u001b[39m restore_policy(\n\u001b[1;32m    196\u001b[0m         cfg_dict[\u001b[38;5;124m\"\u001b[39m\u001b[38;5;124mtrain_setup\u001b[39m\u001b[38;5;124m\"\u001b[39m][\u001b[38;5;124m\"\u001b[39m\u001b[38;5;124mcheckpoint_to_restore\u001b[39m\u001b[38;5;124m\"\u001b[39m], abstract_policy\n\u001b[1;32m    197\u001b[0m     )\n",
      "File \u001b[0;32m~/vast/kaiwen/track-mjx/track_mjx/analysis/rollout.py:141\u001b[0m, in \u001b[0;36mcreate_abstract_policy\u001b[0;34m(environment, cfg_dict)\u001b[0m\n\u001b[1;32m    139\u001b[0m reset_fn \u001b[38;5;241m=\u001b[39m environment\u001b[38;5;241m.\u001b[39mreset\n\u001b[1;32m    140\u001b[0m key_envs \u001b[38;5;241m=\u001b[39m jax\u001b[38;5;241m.\u001b[39mrandom\u001b[38;5;241m.\u001b[39mkey(\u001b[38;5;241m1\u001b[39m)\n\u001b[0;32m--> 141\u001b[0m env_state \u001b[38;5;241m=\u001b[39m \u001b[43mreset_fn\u001b[49m\u001b[43m(\u001b[49m\u001b[43mkey_envs\u001b[49m\u001b[43m)\u001b[49m\n\u001b[1;32m    143\u001b[0m ppo_network \u001b[38;5;241m=\u001b[39m network_factory(\n\u001b[1;32m    144\u001b[0m     env_state\u001b[38;5;241m.\u001b[39mobs\u001b[38;5;241m.\u001b[39mshape[\u001b[38;5;241m-\u001b[39m\u001b[38;5;241m1\u001b[39m],\n\u001b[1;32m    145\u001b[0m     \u001b[38;5;28mint\u001b[39m(env_state\u001b[38;5;241m.\u001b[39minfo[\u001b[38;5;124m\"\u001b[39m\u001b[38;5;124mreference_obs_size\u001b[39m\u001b[38;5;124m\"\u001b[39m]),\n\u001b[1;32m    146\u001b[0m     environment\u001b[38;5;241m.\u001b[39maction_size,\n\u001b[1;32m    147\u001b[0m )\n\u001b[1;32m    149\u001b[0m make_policy \u001b[38;5;241m=\u001b[39m custom_ppo_networks\u001b[38;5;241m.\u001b[39mmake_inference_fn(ppo_network)\n",
      "File \u001b[0;32m~/vast/kaiwen/track-mjx/track_mjx/environment/custom_wrappers.py:70\u001b[0m, in \u001b[0;36mRenderRolloutWrapperTracking.reset\u001b[0;34m(self, rng, clip_idx)\u001b[0m\n\u001b[1;32m     60\u001b[0m     clip_idx \u001b[38;5;241m=\u001b[39m jax\u001b[38;5;241m.\u001b[39mrandom\u001b[38;5;241m.\u001b[39mrandint(clip_rng, (), \u001b[38;5;241m0\u001b[39m, \u001b[38;5;28mself\u001b[39m\u001b[38;5;241m.\u001b[39m_n_clips)  \u001b[38;5;66;03m# type: ignore\u001b[39;00m\n\u001b[1;32m     61\u001b[0m info \u001b[38;5;241m=\u001b[39m {\n\u001b[1;32m     62\u001b[0m     \u001b[38;5;124m\"\u001b[39m\u001b[38;5;124mclip_idx\u001b[39m\u001b[38;5;124m\"\u001b[39m: clip_idx,\n\u001b[1;32m     63\u001b[0m     \u001b[38;5;124m\"\u001b[39m\u001b[38;5;124mstart_frame\u001b[39m\u001b[38;5;124m\"\u001b[39m: \u001b[38;5;241m0\u001b[39m,\n\u001b[0;32m   (...)\u001b[0m\n\u001b[1;32m     67\u001b[0m     \u001b[38;5;124m\"\u001b[39m\u001b[38;5;124mprev_ctrl\u001b[39m\u001b[38;5;124m\"\u001b[39m: jp\u001b[38;5;241m.\u001b[39mzeros((\u001b[38;5;28mself\u001b[39m\u001b[38;5;241m.\u001b[39msys\u001b[38;5;241m.\u001b[39mnu,)),\n\u001b[1;32m     68\u001b[0m }\n\u001b[0;32m---> 70\u001b[0m \u001b[38;5;28;01mreturn\u001b[39;00m \u001b[38;5;28;43mself\u001b[39;49m\u001b[38;5;241;43m.\u001b[39;49m\u001b[43mreset_from_clip\u001b[49m\u001b[43m(\u001b[49m\u001b[43mrng\u001b[49m\u001b[43m,\u001b[49m\u001b[43m \u001b[49m\u001b[43minfo\u001b[49m\u001b[43m)\u001b[49m\n",
      "File \u001b[0;32m~/vast/kaiwen/track-mjx/track_mjx/environment/task/single_clip_tracking.py:174\u001b[0m, in \u001b[0;36mSingleClipTracking.reset_from_clip\u001b[0;34m(self, rng, info, noise)\u001b[0m\n\u001b[1;32m    153\u001b[0m \u001b[38;5;66;03m# # Add pos\u001b[39;00m\n\u001b[1;32m    154\u001b[0m \u001b[38;5;66;03m# qpos_with_pos = jp.array(self.sys.qpos0).at[:3].set(reference_frame.position)\u001b[39;00m\n\u001b[1;32m    155\u001b[0m \n\u001b[0;32m   (...)\u001b[0m\n\u001b[1;32m    163\u001b[0m \u001b[38;5;66;03m#     jp.zeros((self.sys.nq,)),\u001b[39;00m\n\u001b[1;32m    164\u001b[0m \u001b[38;5;66;03m# )\u001b[39;00m\n\u001b[1;32m    166\u001b[0m new_qpos \u001b[38;5;241m=\u001b[39m jp\u001b[38;5;241m.\u001b[39mconcatenate(\n\u001b[1;32m    167\u001b[0m     (\n\u001b[1;32m    168\u001b[0m         reference_frame\u001b[38;5;241m.\u001b[39mposition,\n\u001b[0;32m   (...)\u001b[0m\n\u001b[1;32m    172\u001b[0m     axis\u001b[38;5;241m=\u001b[39m\u001b[38;5;241m0\u001b[39m,\n\u001b[1;32m    173\u001b[0m )\n\u001b[0;32m--> 174\u001b[0m qpos \u001b[38;5;241m=\u001b[39m \u001b[43mnew_qpos\u001b[49m\u001b[43m \u001b[49m\u001b[38;5;241;43m+\u001b[39;49m\u001b[43m \u001b[49m\u001b[43mjax\u001b[49m\u001b[38;5;241;43m.\u001b[39;49m\u001b[43mrandom\u001b[49m\u001b[38;5;241;43m.\u001b[39;49m\u001b[43muniform\u001b[49m\u001b[43m(\u001b[49m\n\u001b[1;32m    175\u001b[0m \u001b[43m    \u001b[49m\u001b[43mrng1\u001b[49m\u001b[43m,\u001b[49m\u001b[43m \u001b[49m\u001b[43m(\u001b[49m\u001b[38;5;28;43mself\u001b[39;49m\u001b[38;5;241;43m.\u001b[39;49m\u001b[43msys\u001b[49m\u001b[38;5;241;43m.\u001b[39;49m\u001b[43mnq\u001b[49m\u001b[43m,\u001b[49m\u001b[43m)\u001b[49m\u001b[43m,\u001b[49m\u001b[43m \u001b[49m\u001b[43mminval\u001b[49m\u001b[38;5;241;43m=\u001b[39;49m\u001b[43mlow\u001b[49m\u001b[43m,\u001b[49m\u001b[43m \u001b[49m\u001b[43mmaxval\u001b[49m\u001b[38;5;241;43m=\u001b[39;49m\u001b[43mhi\u001b[49m\n\u001b[1;32m    176\u001b[0m \u001b[43m\u001b[49m\u001b[43m)\u001b[49m\n\u001b[1;32m    178\u001b[0m qvel \u001b[38;5;241m=\u001b[39m jp\u001b[38;5;241m.\u001b[39mwhere(\n\u001b[1;32m    179\u001b[0m     noise,\n\u001b[1;32m    180\u001b[0m     jax\u001b[38;5;241m.\u001b[39mrandom\u001b[38;5;241m.\u001b[39muniform(rng1, (\u001b[38;5;28mself\u001b[39m\u001b[38;5;241m.\u001b[39msys\u001b[38;5;241m.\u001b[39mnv,), minval\u001b[38;5;241m=\u001b[39mlow, maxval\u001b[38;5;241m=\u001b[39mhi),\n\u001b[1;32m    181\u001b[0m     jp\u001b[38;5;241m.\u001b[39mzeros((\u001b[38;5;28mself\u001b[39m\u001b[38;5;241m.\u001b[39msys\u001b[38;5;241m.\u001b[39mnv,)),\n\u001b[1;32m    182\u001b[0m )\n\u001b[1;32m    184\u001b[0m data \u001b[38;5;241m=\u001b[39m \u001b[38;5;28mself\u001b[39m\u001b[38;5;241m.\u001b[39mpipeline_init(qpos, qvel)\n",
      "File \u001b[0;32m~/miniforge3/envs/track_mjx/lib/python3.11/site-packages/jax/_src/numpy/array_methods.py:573\u001b[0m, in \u001b[0;36m_defer_to_unrecognized_arg.<locals>.deferring_binary_op\u001b[0;34m(self, other)\u001b[0m\n\u001b[1;32m    571\u001b[0m args \u001b[38;5;241m=\u001b[39m (other, \u001b[38;5;28mself\u001b[39m) \u001b[38;5;28;01mif\u001b[39;00m swap \u001b[38;5;28;01melse\u001b[39;00m (\u001b[38;5;28mself\u001b[39m, other)\n\u001b[1;32m    572\u001b[0m \u001b[38;5;28;01mif\u001b[39;00m \u001b[38;5;28misinstance\u001b[39m(other, _accepted_binop_types):\n\u001b[0;32m--> 573\u001b[0m   \u001b[38;5;28;01mreturn\u001b[39;00m \u001b[43mbinary_op\u001b[49m\u001b[43m(\u001b[49m\u001b[38;5;241;43m*\u001b[39;49m\u001b[43margs\u001b[49m\u001b[43m)\u001b[49m\n\u001b[1;32m    574\u001b[0m \u001b[38;5;66;03m# Note: don't use isinstance here, because we don't want to raise for\u001b[39;00m\n\u001b[1;32m    575\u001b[0m \u001b[38;5;66;03m# subclasses, e.g. NamedTuple objects that may override operators.\u001b[39;00m\n\u001b[1;32m    576\u001b[0m \u001b[38;5;28;01mif\u001b[39;00m \u001b[38;5;28mtype\u001b[39m(other) \u001b[38;5;129;01min\u001b[39;00m _rejected_binop_types:\n",
      "File \u001b[0;32m~/miniforge3/envs/track_mjx/lib/python3.11/site-packages/jax/_src/numpy/ufunc_api.py:177\u001b[0m, in \u001b[0;36mufunc.__call__\u001b[0;34m(self, out, where, *args)\u001b[0m\n\u001b[1;32m    175\u001b[0m   \u001b[38;5;28;01mraise\u001b[39;00m \u001b[38;5;167;01mNotImplementedError\u001b[39;00m(\u001b[38;5;124mf\u001b[39m\u001b[38;5;124m\"\u001b[39m\u001b[38;5;124mwhere argument of \u001b[39m\u001b[38;5;132;01m{\u001b[39;00m\u001b[38;5;28mself\u001b[39m\u001b[38;5;132;01m}\u001b[39;00m\u001b[38;5;124m\"\u001b[39m)\n\u001b[1;32m    176\u001b[0m call \u001b[38;5;241m=\u001b[39m \u001b[38;5;28mself\u001b[39m\u001b[38;5;241m.\u001b[39m__static_props[\u001b[38;5;124m'\u001b[39m\u001b[38;5;124mcall\u001b[39m\u001b[38;5;124m'\u001b[39m] \u001b[38;5;129;01mor\u001b[39;00m \u001b[38;5;28mself\u001b[39m\u001b[38;5;241m.\u001b[39m_call_vectorized\n\u001b[0;32m--> 177\u001b[0m \u001b[38;5;28;01mreturn\u001b[39;00m \u001b[43mcall\u001b[49m\u001b[43m(\u001b[49m\u001b[38;5;241;43m*\u001b[39;49m\u001b[43margs\u001b[49m\u001b[43m)\u001b[49m\n",
      "    \u001b[0;31m[... skipping hidden 11 frame]\u001b[0m\n",
      "File \u001b[0;32m~/miniforge3/envs/track_mjx/lib/python3.11/site-packages/jax/_src/numpy/ufuncs.py:1157\u001b[0m, in \u001b[0;36m_add\u001b[0;34m(x, y)\u001b[0m\n\u001b[1;32m   1131\u001b[0m \u001b[38;5;250m\u001b[39m\u001b[38;5;124;03m\"\"\"Add two arrays element-wise.\u001b[39;00m\n\u001b[1;32m   1132\u001b[0m \n\u001b[1;32m   1133\u001b[0m \u001b[38;5;124;03mJAX implementation of :obj:`numpy.add`. This is a universal function,\u001b[39;00m\n\u001b[0;32m   (...)\u001b[0m\n\u001b[1;32m   1154\u001b[0m \u001b[38;5;124;03m  Array([10, 11, 12, 13], dtype=int32)\u001b[39;00m\n\u001b[1;32m   1155\u001b[0m \u001b[38;5;124;03m\"\"\"\u001b[39;00m\n\u001b[1;32m   1156\u001b[0m x, y \u001b[38;5;241m=\u001b[39m promote_args(\u001b[38;5;124m\"\u001b[39m\u001b[38;5;124madd\u001b[39m\u001b[38;5;124m\"\u001b[39m, x, y)\n\u001b[0;32m-> 1157\u001b[0m \u001b[38;5;28;01mreturn\u001b[39;00m \u001b[43mlax\u001b[49m\u001b[38;5;241;43m.\u001b[39;49m\u001b[43madd\u001b[49m\u001b[43m(\u001b[49m\u001b[43mx\u001b[49m\u001b[43m,\u001b[49m\u001b[43m \u001b[49m\u001b[43my\u001b[49m\u001b[43m)\u001b[49m \u001b[38;5;28;01mif\u001b[39;00m x\u001b[38;5;241m.\u001b[39mdtype \u001b[38;5;241m!=\u001b[39m \u001b[38;5;28mbool\u001b[39m \u001b[38;5;28;01melse\u001b[39;00m lax\u001b[38;5;241m.\u001b[39mbitwise_or(x, y)\n",
      "    \u001b[0;31m[... skipping hidden 7 frame]\u001b[0m\n",
      "File \u001b[0;32m~/miniforge3/envs/track_mjx/lib/python3.11/site-packages/jax/_src/lax/lax.py:2072\u001b[0m, in \u001b[0;36mbroadcasting_shape_rule\u001b[0;34m(name, *avals)\u001b[0m\n\u001b[1;32m   2070\u001b[0m       result_shape\u001b[38;5;241m.\u001b[39mappend(non_1s[\u001b[38;5;241m0\u001b[39m])\n\u001b[1;32m   2071\u001b[0m     \u001b[38;5;28;01melse\u001b[39;00m:\n\u001b[0;32m-> 2072\u001b[0m       \u001b[38;5;28;01mraise\u001b[39;00m \u001b[38;5;167;01mTypeError\u001b[39;00m(\u001b[38;5;124mf\u001b[39m\u001b[38;5;124m'\u001b[39m\u001b[38;5;132;01m{\u001b[39;00mname\u001b[38;5;132;01m}\u001b[39;00m\u001b[38;5;124m got incompatible shapes for broadcasting: \u001b[39m\u001b[38;5;124m'\u001b[39m\n\u001b[1;32m   2073\u001b[0m                       \u001b[38;5;124mf\u001b[39m\u001b[38;5;124m'\u001b[39m\u001b[38;5;132;01m{\u001b[39;00m\u001b[38;5;124m\"\u001b[39m\u001b[38;5;124m, \u001b[39m\u001b[38;5;124m\"\u001b[39m\u001b[38;5;241m.\u001b[39mjoin(\u001b[38;5;28mmap\u001b[39m(\u001b[38;5;28mstr\u001b[39m,\u001b[38;5;250m \u001b[39m\u001b[38;5;28mmap\u001b[39m(\u001b[38;5;28mtuple\u001b[39m,\u001b[38;5;250m \u001b[39mshapes)))\u001b[38;5;132;01m}\u001b[39;00m\u001b[38;5;124m.\u001b[39m\u001b[38;5;124m'\u001b[39m)\n\u001b[1;32m   2075\u001b[0m \u001b[38;5;28;01mreturn\u001b[39;00m \u001b[38;5;28mtuple\u001b[39m(result_shape)\n",
      "\u001b[0;31mTypeError\u001b[0m: add got incompatible shapes for broadcasting: (43,), (74,)."
     ]
    }
   ],
   "source": [
    "env = create_environment(cfg)\n",
    "inference_fn = create_inference_fn(env, cfg)\n",
    "generate_rollout = create_rollout_generator(cfg[\"reference_config\"], env, inference_fn)"
   ]
  },
  {
   "cell_type": "code",
   "execution_count": 3,
   "metadata": {},
   "outputs": [
    {
     "data": {
      "text/plain": [
       "'assets/rodent/rodent_ghostpair_scale080.xml'"
      ]
     },
     "execution_count": 3,
     "metadata": {},
     "output_type": "execute_result"
    }
   ],
   "source": [
    "env.walker._pair_rendering_xml_path"
   ]
  },
  {
   "cell_type": "code",
   "execution_count": 4,
   "metadata": {},
   "outputs": [
    {
     "name": "stdout",
     "output_type": "stream",
     "text": [
      "accelerometer: dim=3\n",
      "velocimeter: dim=3\n",
      "gyro: dim=3\n",
      "torso: dim=3\n"
     ]
    }
   ],
   "source": [
    "model = env.walker._mjcf_model.model.ptr\n",
    "for i in range(model.nsensor):\n",
    "    print(f\"{model.sensor(i).name}: dim={model.sensor_dim[i]}\")"
   ]
  },
  {
   "cell_type": "markdown",
   "metadata": {},
   "source": [
    "### Step 3: Generate rollouts from the checkpoint!\n",
    "\n",
    "After we load the checkpoint, we can do inference on the rollout!\n",
    "\n",
    "#### Generate rollout for a single clip\n",
    "\n",
    "The following cell will generate rollout for a single clip, specified by the clip id. The first time you call the function JAX needs to complete the `JIT` compilation, which will take around 3 minutes to execute and compile. After compilation, generates the rollout will only take about 8 seconds, since it is hardware accelerated."
   ]
  },
  {
   "cell_type": "code",
   "execution_count": 5,
   "metadata": {},
   "outputs": [],
   "source": [
    "import jax\n",
    "\n",
    "# first pass will take ~2m38s to run to compile\n",
    "# after complied, it only takes ~9 seconds to run\n",
    "output = generate_rollout(5)"
   ]
  },
  {
   "cell_type": "markdown",
   "metadata": {},
   "source": [
    "#### Batch Generating Rollouts\n",
    "\n",
    "Alternatively, you can use `jax.vmap` to parallelize the rollout function. To do so, pass a 1D array of clip indexes (`clip_idxs`) as input. \n",
    "\n",
    "On the first call, JAX will perform `JIT` compilation, which takes approximately **3 minutes**. Once compiled, subsequent rollouts execute in just **8 seconds**, benefiting from hardware acceleration.\n",
    "\n",
    "**Note:** `vmap` compiles based on the input shape. This means that if you use the same length for `clip_idxs`, JAX will reuse the compiled function for acceleration. However, if the input length changes, JAX will **recompile the entire function**, incurring additional overhead."
   ]
  },
  {
   "cell_type": "code",
   "execution_count": 9,
   "metadata": {},
   "outputs": [],
   "source": [
    "# generate rollout for 5 clips simultaneously\n",
    "jit_vmap_generate_rollout = jax.jit(jax.vmap(generate_rollout))\n",
    "clip_idxs = jp.arange(0, 5)\n",
    "jit_vmap_out = jit_vmap_generate_rollout(clip_idxs)"
   ]
  },
  {
   "cell_type": "code",
   "execution_count": 10,
   "metadata": {},
   "outputs": [],
   "source": [
    "# hardware acceleration: 5 clips simultaneously\n",
    "clip_idxs = jp.arange(10, 15)\n",
    "jit_vmap_out2 = jit_vmap_generate_rollout(clip_idxs)"
   ]
  },
  {
   "cell_type": "code",
   "execution_count": 5,
   "metadata": {},
   "outputs": [],
   "source": [
    "# triggers recompilation: 15 clips simultaneously\n",
    "clip_idxs = jp.arange(15, 30)\n",
    "jit_vmap_out2 = jit_vmap_generate_rollout(clip_idxs)"
   ]
  },
  {
   "cell_type": "markdown",
   "metadata": {},
   "source": [
    "### Step 4: Save it to disk"
   ]
  },
  {
   "cell_type": "code",
   "execution_count": 4,
   "metadata": {},
   "outputs": [],
   "source": [
    "jit_vmap_out['joint_forces'].shape"
   ]
  },
  {
   "cell_type": "code",
   "execution_count": 1,
   "metadata": {},
   "outputs": [
    {
     "ename": "NameError",
     "evalue": "name 'tqdm' is not defined",
     "output_type": "error",
     "traceback": [
      "\u001b[0;31m---------------------------------------------------------------------------\u001b[0m",
      "\u001b[0;31mNameError\u001b[0m                                 Traceback (most recent call last)",
      "Cell \u001b[0;32mIn[1], line 1\u001b[0m\n\u001b[0;32m----> 1\u001b[0m \u001b[38;5;28;01mfor\u001b[39;00m i \u001b[38;5;129;01min\u001b[39;00m \u001b[43mtqdm\u001b[49m(\u001b[38;5;28mrange\u001b[39m(\u001b[38;5;241m200\u001b[39m)):\n\u001b[1;32m      2\u001b[0m     output \u001b[38;5;241m=\u001b[39m generate_rollout(i)\n\u001b[1;32m      3\u001b[0m     \u001b[38;5;28;01mwith\u001b[39;00m h5py\u001b[38;5;241m.\u001b[39mFile(\u001b[38;5;124mf\u001b[39m\u001b[38;5;124m\"\u001b[39m\u001b[38;5;124m/root/vast/kaiwen/track-mjx/force_analysis_rollout_fly/clip_\u001b[39m\u001b[38;5;132;01m{\u001b[39;00mi\u001b[38;5;132;01m}\u001b[39;00m\u001b[38;5;124m.h5\u001b[39m\u001b[38;5;124m\"\u001b[39m, \u001b[38;5;124m\"\u001b[39m\u001b[38;5;124mw\u001b[39m\u001b[38;5;124m\"\u001b[39m) \u001b[38;5;28;01mas\u001b[39;00m h5file:\n",
      "\u001b[0;31mNameError\u001b[0m: name 'tqdm' is not defined"
     ]
    }
   ],
   "source": [
    "for i in tqdm(range(200)):\n",
    "    output = generate_rollout(i)\n",
    "    with h5py.File(f\"/root/vast/kaiwen/track-mjx/force_analysis_rollout_fly/clip_{i}.h5\", \"w\") as h5file:\n",
    "        save_to_h5py(h5file, output)\n",
    "    clear_output(wait=True)"
   ]
  },
  {
   "cell_type": "code",
   "execution_count": null,
   "metadata": {},
   "outputs": [],
   "source": []
  }
 ],
 "metadata": {
  "kernelspec": {
   "display_name": "track-mjx",
   "language": "python",
   "name": "python3"
  },
  "language_info": {
   "codemirror_mode": {
    "name": "ipython",
    "version": 3
   },
   "file_extension": ".py",
   "mimetype": "text/x-python",
   "name": "python",
   "nbconvert_exporter": "python",
   "pygments_lexer": "ipython3",
   "version": "3.11.10"
  }
 },
 "nbformat": 4,
 "nbformat_minor": 2
}
