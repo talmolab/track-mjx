{
 "cells": [
  {
   "cell_type": "markdown",
   "metadata": {},
   "source": [
    "# Welcome to the `track-mjx` Workshop!\n",
    "\n",
    "In this document, I am going to guide you set up the running environment for the `track-mjx`, both using Docker image, and using conda environment.\n",
    "\n",
    "> Make sure you have a NVIDIA GPU enabled Linux environment setup for this repo."
   ]
  },
  {
   "cell_type": "markdown",
   "metadata": {},
   "source": [
    "# Section 1: Environment Setup"
   ]
  },
  {
   "cell_type": "markdown",
   "metadata": {
    "vscode": {
     "languageId": "plaintext"
    }
   },
   "source": [
    "## Option 1: Running `track-mjx` on a Bare-Metal Linux Machine\n",
    "\n",
    "### Installation\n",
    "\n",
    "1. Clone the repository with the following command:\n",
    "    ```bash\n",
    "    git clone https://github.com/talmolab/track-mjx.git && cd track-mjx\n",
    "    ```\n",
    "2. Create a new development environment via `conda`:\n",
    "    ```bash\n",
    "    conda env create -f environment.yml\n",
    "    ```\n",
    "    This will install the necessary dependencies and install the package in editable mode.\n",
    "3. Test the environment.\n",
    "    Active the conda environment that was just installed:\n",
    "    ```bash\n",
    "    conda activate track_mjx\n",
    "    ```\n",
    "    Then run `jupyter lab` and execute the tests in [`notebooks/test_setup.ipynb`](notebooks/test_setup.ipynb). This will check if MuJoCo, GPU support and JAX appear to be working.\n",
    "\n",
    "### Using VSCode or other IDE\n",
    "\n",
    "> Make sure you have downloaded the Python and jupyter notebook plugins in your VSCode.\n",
    "\n",
    "After successfully installing the `track-mjx` conda environment, open the command palette (<kbd>Shift</kbd> + <kbd>Cmd</kbd> + <kbd>P</kbd> on Mac or <kbd>Ctrl</kbd> + <kbd>Shift</kbd> + <kbd>P</kbd> on Windows), and select `Python: Select Interpreter`. Choose `track-mjx (Python 3.11.11)` to set your Python environment. You may need to restart the terminal to activate the `track-mjx` environment, or you can activate it directly by running `conda activate track-mjx`.\n",
    "\n",
    "When you open a `.ipynb` file, you also need to select the `track-mjx` environment as the kernel. You can do this by clicking on the kernel name in the top right corner of the notebook and selecting `track-mjx`."
   ]
  },
  {
   "cell_type": "markdown",
   "metadata": {},
   "source": [
    "## Option 2: Running `track-mjx` using docker image\n",
    "\n",
    "> Make sure you have docker daemon running in your computer. Run the following command.\n",
    "\n",
    "> To allow GPU passthrough to the running docker image, you need to install the [NVIDIA Container Toolkit](https://docs.nvidia.com/datacenter/cloud-native/container-toolkit/latest/install-guide.html) if you haven't do so.\n",
    "\n",
    "> We have not figure out how to use the `egl` render with the docker image running on bare-metal ubuntu linux system. `egl` backend is working on Salk's Manticores clusters with Kubernetes linux based system.\n",
    "\n",
    "<!-- Need to re-test the docker system locally in Linux/Windows -->\n",
    "\n",
    "Pull and run the docker image from the DockerHub registry:\n",
    "\n",
    "```bash\n",
    "docker run --gpus all -e NVIDIA_DRIVER_CAPABILITIES=all -p 8888:22 scottyang17/track-mjx:vscode-v1\n",
    "```\n",
    "\n",
    "The `8888` is the local port that you want to forward to. Choose one that's unoccupied as you'll use this later to connect to the Docker container from VSCode.\n",
    "\n",
    "[See\n",
    "here](https://github.com/talmolab/internal-dockerfiles/tree/3245903ec48b633ae205eeab0583d6413c32530b/remote-dev)\n",
    "for more info on our Remote Dev Docker image.\n",
    "\n",
    "\n",
    "### Setup VS Code Remote Dev\n",
    "\n",
    "First, install the `Remote Development` (with id: ms-vscode-remote.vscode-remote-extensionpack) extension on vscode. Bring up the command palette, search and choose `Remote-SSH: Connect to Host` -> `Configure SSH Hosts` -> `<your ssh config path>`, and put following config:\n",
    "\n",
    "```\n",
    "Host local-testing\n",
    "    HostName <ip>\n",
    "    Port <port>\n",
    "    User root\n",
    "```\n",
    "\n",
    "The `<ip>` will be `localhost` if running on the same machine, or the IP of the remote machine if running on a cluster.\n",
    "\n",
    "Bring up your command palette, choose `Remote-SSH: Connect to Host` -> `track-mjx-remote-dev`, type in the password `root`, you are now connecting to the image.\n"
   ]
  },
  {
   "cell_type": "markdown",
   "metadata": {},
   "source": [
    "## Testing your setup\n",
    "\n",
    "After you have set up the environment, you can test it by running all the commands in the [`notebooks/test_setup.ipynb`](notebooks/test_setup.ipynb) notebook. This will check if MuJoCo, GPU support and JAX appear to be working."
   ]
  },
  {
   "cell_type": "markdown",
   "metadata": {
    "vscode": {
     "languageId": "plaintext"
    }
   },
   "source": [
    "# Section 2: Download the Datasets\n",
    "\n",
    "Once the environment is set up, you can proceed to download the datasets containing the target trajectories for the agents to track. These datasets are available via a Google Drive link.\n",
    "\n",
    "1. install the `gdown` package by running the following command:\n",
    "    ```bash\n",
    "    pip install gdown\n",
    "    ```\n",
    "\n",
    "2. Download the datasets by running the following command, make sure you are under the `track-mjx/data` directory, the following command will download the dataset for the rodent trajectory\n",
    "    ```bash\n",
    "    gdown 1BHKe9agnupdPC8xExx4OaPtPJBKTTI2U\n",
    "    ```\n",
    "\n",
    "    TODO: fly trajectory dataset pending\n"
   ]
  },
  {
   "cell_type": "markdown",
   "metadata": {},
   "source": [
    "# Section 3: Training the `track-mjx` model\n",
    "\n",
    "After setting up the environment and downloading the datasets, you can proceed to train the `track-mjx` model. \n",
    "\n",
    "### `screen` based terminal\n",
    "\n",
    "This enables you to use persistent sessions even if you get disconnected from the Docker image. See [this issue](https://github.com/talmolab/track-mjx/issues/8#issuecomment-2469376476) for a workflow description.\n",
    "\n",
    "This is useful when running stuff over SSH since disconnects would otherwise kill long-running processes like training.\n",
    "\n",
    "1. Start a new `screen` session:\n",
    "    ```bash\n",
    "    screen -S track-mjx-train\n",
    "    ```\n",
    "    This will automatically attach you to the new session.\n",
    "2. Activate the conda environment:\n",
    "    ```bash\n",
    "    conda activate track_mjx\n",
    "    ```\n",
    "3. Run the training command:\n",
    "    ```bash\n",
    "    python -m track_mjx.train data_path=\"data/ReferenceClip.p\"\n",
    "    ```\n",
    "\n",
    "You're good!\n",
    "\n",
    "**To manually detach from the session:** Press <kbd>Ctrl</kbd>+<kbd>A</kbd> → <kbd>D</kbd> (even on Mac).\n",
    "\n",
    "**To attach to a running session:**\n",
    "```bash\n",
    "screen -r track-mjx-train\n",
    "```\n",
    "\n",
    "**To see which screen sessions are running:**\n",
    "```bash\n",
    "screen -ls\n",
    "```\n",
    "\n",
    "**To kill a session and anything running in it:**\n",
    "```bash\n",
    "screen -S track-mjx-train -X quit\n",
    "```\n",
    "\n",
    "If you get disconnected from SSH, you just need to re-attach to the running session to view it. The running process itself won't be terminated."
   ]
  },
  {
   "cell_type": "markdown",
   "metadata": {},
   "source": [
    "To run the training, you can also use the following command:\n",
    "\n",
    "```bash\n",
    "python -m track_mjx.train data_path=\"data/transform_snips.h5\" +hydra.job.config_name=\"rodent-two-clips\"\n",
    "```\n",
    "\n",
    "You might need to login to wandb to see the training progress. You can do this by running the following command:\n",
    "\n",
    "```bash\n",
    "wandb login\n",
    "```"
   ]
  },
  {
   "cell_type": "code",
   "execution_count": null,
   "metadata": {
    "vscode": {
     "languageId": "plaintext"
    }
   },
   "outputs": [],
   "source": []
  },
  {
   "cell_type": "code",
   "execution_count": null,
   "metadata": {
    "vscode": {
     "languageId": "plaintext"
    }
   },
   "outputs": [],
   "source": []
  }
 ],
 "metadata": {
  "language_info": {
   "name": "python"
  }
 },
 "nbformat": 4,
 "nbformat_minor": 2
}
