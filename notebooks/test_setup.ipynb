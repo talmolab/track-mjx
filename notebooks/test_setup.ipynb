{
 "cells": [
  {
   "cell_type": "markdown",
   "metadata": {},
   "source": [
    "# Test setup\n",
    "\n",
    "This package requires a lot of annoying dependencies that all need to talk to each\n",
    "other.\n",
    "\n",
    "This notebook aims to facilitate with troubleshooting these by testing whether they are accessible."
   ]
  },
  {
   "cell_type": "markdown",
   "metadata": {},
   "source": [
    "## `nvidia-smi` / GPU drivers\n",
    "\n",
    "This tests whether the `nvidia-smi` binary is accessible and returns the correct driver\n",
    "versions.\n",
    "\n",
    "This should be available if the NVIDIA GPU driver was intalled with CUDA support."
   ]
  },
  {
   "cell_type": "code",
   "execution_count": 1,
   "metadata": {},
   "outputs": [
    {
     "name": "stdout",
     "output_type": "stream",
     "text": [
      "Tue Nov 12 01:08:57 2024       \n",
      "+-----------------------------------------------------------------------------------------+\n",
      "| NVIDIA-SMI 550.90.07              Driver Version: 550.90.07      CUDA Version: 12.6     |\n",
      "|-----------------------------------------+------------------------+----------------------+\n",
      "| GPU  Name                 Persistence-M | Bus-Id          Disp.A | Volatile Uncorr. ECC |\n",
      "| Fan  Temp   Perf          Pwr:Usage/Cap |           Memory-Usage | GPU-Util  Compute M. |\n",
      "|                                         |                        |               MIG M. |\n",
      "|=========================================+========================+======================|\n",
      "|   0  NVIDIA A40                     On  |   00000000:17:00.0 Off |                    0 |\n",
      "|  0%   41C    P0             90W /  300W |       4MiB /  46068MiB |      0%      Default |\n",
      "|                                         |                        |                  N/A |\n",
      "+-----------------------------------------+------------------------+----------------------+\n",
      "                                                                                         \n",
      "+-----------------------------------------------------------------------------------------+\n",
      "| Processes:                                                                              |\n",
      "|  GPU   GI   CI        PID   Type   Process name                              GPU Memory |\n",
      "|        ID   ID                                                               Usage      |\n",
      "|=========================================================================================|\n",
      "|  No running processes found                                                             |\n",
      "+-----------------------------------------------------------------------------------------+\n"
     ]
    }
   ],
   "source": [
    "import subprocess\n",
    "\n",
    "proc = subprocess.run(\"nvidia-smi\")\n",
    "\n",
    "if proc.returncode:\n",
    "    print(\"Error in running nvidia-smi:\", proc.stderr)"
   ]
  },
  {
   "cell_type": "markdown",
   "metadata": {},
   "source": [
    "## `jax`\n",
    "\n",
    "The `jax` and `jaxlib` libraries can be a bit annoying to interface with the GPU. This\n",
    "checks whether they can correctly get imported and place a tensor on the GPU.\n",
    "\n",
    "It also tries to set the XLA flags to ensure that it can do GEMM acceleration."
   ]
  },
  {
   "cell_type": "code",
   "execution_count": 2,
   "metadata": {},
   "outputs": [
    {
     "name": "stdout",
     "output_type": "stream",
     "text": [
      "JAX version: 0.4.35\n"
     ]
    },
    {
     "name": "stderr",
     "output_type": "stream",
     "text": [
      "/tmp/ipykernel_34586/4154785211.py:14: DeprecationWarning: jax.lib.xla_bridge.get_backend is deprecated; use jax.extend.backend.get_backend.\n",
      "  print(\"XLA bridge backend:\", jax.lib.xla_bridge.get_backend().platform_version)\n"
     ]
    },
    {
     "name": "stdout",
     "output_type": "stream",
     "text": [
      "XLA bridge backend: PJRT C API\n",
      "cuda 12030\n",
      "JAX devices: [CudaDevice(id=0)]\n",
      "Device for allocated tensor: cuda:0\n"
     ]
    }
   ],
   "source": [
    "import os\n",
    "\n",
    "xla_flags = os.environ.get(\"XLA_FLAGS\", \"\")\n",
    "xla_flags += \"--xla_gpu_triton_gemm_any=True \"\n",
    "xla_flags += \"--xla_gpu_enable_triton_softmax_fusion=true \"\n",
    "os.environ[\"XLA_FLAGS\"] = xla_flags\n",
    "\n",
    "import jax\n",
    "import jax.numpy as jnp\n",
    "\n",
    "print(\"JAX version:\", jax.__version__)\n",
    "\n",
    "# Print XLA bridge backend info\n",
    "print(\"XLA bridge backend:\", jax.lib.xla_bridge.get_backend().platform_version)\n",
    "\n",
    "# Print available devices\n",
    "print(\"JAX devices:\", jax.devices())\n",
    "\n",
    "# Test a simple GPU operation\n",
    "x = jnp.ones((100, 100))\n",
    "print(\"Device for allocated tensor:\", x.addressable_data(0).device)"
   ]
  },
  {
   "cell_type": "markdown",
   "metadata": {},
   "source": [
    "## EGL renderer\n",
    "\n",
    "The following checks whether we can import MuJoCo with the EGL backend set.\n",
    "\n",
    "This requires GPU acceleration and that the NVIDIA EGL drivers are accessible.\n",
    "\n",
    "On an NVIDIA-based container runtime, this is enabled by setting the\n",
    "`NVIDIA_DRIVER_CAPABILITIES` environment variable to `all` when running the container.\n",
    "\n",
    "If this is not possible, the alternative is to use the `osmesa` renderer which runs\n",
    "(much more slowly) on the CPU."
   ]
  },
  {
   "cell_type": "code",
   "execution_count": 3,
   "metadata": {},
   "outputs": [
    {
     "name": "stdout",
     "output_type": "stream",
     "text": [
      "Checking that we can import MuJoCo with EGL backend...\n",
      "Success!\n"
     ]
    }
   ],
   "source": [
    "import os\n",
    "\n",
    "os.environ[\"MUJOCO_GL\"] = \"egl\"\n",
    "\n",
    "try:\n",
    "    print(\"Checking that we can import MuJoCo with EGL backend...\")\n",
    "    import mujoco\n",
    "\n",
    "    mujoco.MjModel.from_xml_string(\"<mujoco/>\")\n",
    "    print(\"Success!\")\n",
    "except Exception as e:\n",
    "    print(\"Error in importing mujoco:\", e)"
   ]
  },
  {
   "cell_type": "code",
   "execution_count": 4,
   "metadata": {},
   "outputs": [
    {
     "data": {
      "text/html": [
       "<table class=\"show_images\" style=\"border-spacing:0px;\"><tr><td style=\"padding:1px;\"><img width=\"320\" height=\"240\" style=\"image-rendering:auto; object-fit:cover;\" src=\"data:image/png;base64,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\"/></td></tr></table>"
      ],
      "text/plain": [
       "<IPython.core.display.HTML object>"
      ]
     },
     "metadata": {},
     "output_type": "display_data"
    }
   ],
   "source": [
    "import mediapy\n",
    "\n",
    "xml = \"\"\"\n",
    "<mujoco>\n",
    "  <worldbody>\n",
    "    <light name=\"top\" pos=\"0 0 1\"/>\n",
    "    <geom name=\"red_box\" type=\"box\" size=\".2 .2 .2\" rgba=\"1 0 0 1\"/>\n",
    "    <geom name=\"green_sphere\" pos=\".2 .2 .2\" size=\".1\" rgba=\"0 1 0 1\"/>\n",
    "  </worldbody>\n",
    "</mujoco>\n",
    "\"\"\"\n",
    "model = mujoco.MjModel.from_xml_string(xml)\n",
    "data = mujoco.MjData(model)\n",
    "\n",
    "with mujoco.Renderer(model) as renderer:\n",
    "    mujoco.mj_forward(model, data)\n",
    "    renderer.update_scene(data)\n",
    "\n",
    "    mediapy.show_image(renderer.render())"
   ]
  }
 ],
 "metadata": {
  "kernelspec": {
   "display_name": "track_mjx",
   "language": "python",
   "name": "python3"
  },
  "language_info": {
   "codemirror_mode": {
    "name": "ipython",
    "version": 3
   },
   "file_extension": ".py",
   "mimetype": "text/x-python",
   "name": "python",
   "nbconvert_exporter": "python",
   "pygments_lexer": "ipython3",
   "version": "3.11.10"
  }
 },
 "nbformat": 4,
 "nbformat_minor": 2
}
