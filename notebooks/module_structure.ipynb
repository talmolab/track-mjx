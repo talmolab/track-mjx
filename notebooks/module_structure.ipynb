{
 "cells": [
  {
   "cell_type": "markdown",
   "metadata": {},
   "source": [
    "# Module Structure Brainstorming"
   ]
  },
  {
   "cell_type": "markdown",
   "metadata": {},
   "source": [
    "```mermaid\n",
    "graph TD\n",
<<<<<<< HEAD
    "    A[Start] --> B{Is it raining?}\n",
    "    B -- Yes --> C[Take an umbrella]\n",
    "    B -- No --> D[Go outside]\n",
    "    C --> E[Walk to the store]\n",
    "    D --> E\n",
    "    E --> F[End]\n",
=======
    "    track-mjx -- training scripts and logging --> agent\n",
    "    track-mjx -- env / task / walker creation  --> environment\n",
    "    track-mjx -- input preprocessing / model checkpoint --> io\n",
    "\n",
    "    subgraph \" \"\n",
    "    agent --> logging\n",
    "    agent --> RL-training-scripts \n",
    "    end\n",
    "\n",
    "    subgraph \" \"\n",
    "    environment --> wrappers\n",
    "    environment --> walker\n",
    "    environment --> tasks\n",
    "    end\n",
    "\n",
    "    subgraph \" \"\n",
    "    io --> checkpoint\n",
    "    io --> preprocess\n",
    "    end\n",
>>>>>>> origin/main
    "```"
   ]
  },
  {
   "cell_type": "markdown",
   "metadata": {},
   "source": []
  }
 ],
 "metadata": {
  "language_info": {
   "name": "python"
  }
 },
 "nbformat": 4,
 "nbformat_minor": 2
}
