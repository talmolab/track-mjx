{
 "cells": [
  {
   "cell_type": "markdown",
   "metadata": {},
   "source": [
    "# Generate and render a rollout for existing checkpoint\n",
    "\n",
    "This notebook demonstrates how to load a training checkpoint, perform a rollout, and render the result. Full network activations are saved as an output of this rollout for further analysis.\n",
    "\n",
    "## Terminology\n",
    "\n",
    "**Rollout** - a process of running a trained agent in an environment to collect data. In this case, we will run the agent in the environment and save the activations of the network.\n",
    "\n",
    "**Rollout File** - a file containing the activations of the network for each step of the rollout for a specific episode, saved in `.h5` formats."
   ]
  },
  {
   "cell_type": "markdown",
   "metadata": {},
   "source": [
    "## Imports"
   ]
  },
  {
   "cell_type": "code",
   "execution_count": null,
   "metadata": {},
   "outputs": [],
   "source": [
    "%load_ext autoreload\n",
    "%autoreload 2\n",
    "\n",
    "import os\n",
    "import logging\n",
    "# Send logging outputs to stdout (comment this out if preferred)\n",
    "# logger = logging.getLogger()\n",
    "# logger.setLevel(logging.INFO)\n",
    "\n",
    "# Change this to egl or glfw if available\n",
    "os.environ[\"MUJOCO_GL\"] = \"egl\"\n",
    "os.environ[\"PYOPENGL_PLATFORM\"] = \"egl\"\n",
    "\n",
    "os.environ[\"XLA_PYTHON_CLIENT_MEM_FRACTION\"] = os.environ.get(\n",
    "    \"XLA_PYTHON_CLIENT_MEM_FRACTION\", \"0.4\"\n",
    ")\n",
    "\n",
    "\n",
    "from track_mjx.agent import checkpointing\n",
    "from track_mjx.analysis import rollout, render, utils\n",
    "\n",
    "import jax\n",
    "from jax import numpy as jp\n",
    "from pathlib import Path\n",
    "from orbax import checkpoint as ocp\n",
    "from omegaconf import OmegaConf"
   ]
  },
  {
   "cell_type": "markdown",
   "metadata": {},
   "source": [
    "## Load checkpoint"
   ]
  },
  {
   "cell_type": "code",
   "execution_count": 2,
   "metadata": {},
   "outputs": [],
   "source": [
    "# replace with your checkpoint path\n",
    "# ckpt_path = \"/root/vast/scott-yang/track-mjx/model_checkpoints/250227_200156\"\n",
    "ckpt_path = \"/root/vast/kaiwen/track-mjx/model_checkpoints/rodent_data/RodentReferenceClip.h5_250416_022944\" # LSTM checkpoint"
   ]
  },
  {
   "cell_type": "markdown",
   "metadata": {},
   "source": [
    "Patch older checkpoints that didn't have some config arguments"
   ]
  },
  {
   "cell_type": "code",
   "execution_count": 76,
   "metadata": {},
   "outputs": [],
   "source": [
    "def load_config_from_checkpoint(checkpoint_path):\n",
    "    options = ocp.CheckpointManagerOptions(step_prefix=\"PPONetwork\")\n",
    "    with ocp.CheckpointManager(\n",
    "        checkpoint_path,\n",
    "        options=options,\n",
    "    ) as mngr:\n",
    "        print(f\"latest checkpoint step: {mngr.latest_step()}\")\n",
    "        config = mngr.restore(\n",
    "            mngr.latest_step(),\n",
    "            args=ocp.args.Composite(config=ocp.args.JsonRestore(None)),\n",
    "        )[\"config\"]\n",
    "    return config\n",
    "\n",
    "\n",
    "def patch(cfg: dict, env_state, env, normalize_observations) -> dict:\n",
    "    network_cfg = cfg.setdefault(\"network_config\", {})\n",
    "\n",
    "    network_cfg.setdefault(\n",
    "        \"observation_size\", int(env_state.obs.shape[-1])\n",
    "    )\n",
    "    network_cfg.setdefault(\n",
    "        \"action_size\", int(env.action_size)\n",
    "    )\n",
    "    network_cfg.setdefault(\n",
    "        \"normalize_observations\", normalize_observations\n",
    "    )\n",
    "    network_cfg.setdefault(\n",
    "        \"reference_obs_size\",\n",
    "        int(env_state.info[\"reference_obs_size\"]),\n",
    "    )\n",
    "    \n",
    "    logging_cfg = cfg.setdefault(\"logging_config\", {})\n",
    "    logging_cfg.setdefault(\n",
    "        \"rollout_metrics\",\n",
    "        [\n",
    "            \"pos_reward\",\n",
    "            \"quat_reward\",\n",
    "            \"joint_reward\",\n",
    "            \"angvel_reward\",\n",
    "            \"bodypos_reward\",\n",
    "            \"endeff_reward\",\n",
    "            \"summed_pos_distance\",\n",
    "            \"joint_distance\",\n",
    "            \"quat_distance\",\n",
    "            \"ctrl_cost\",\n",
    "            \"ctrl_diff_cost\",\n",
    "            \"energy_cost\",\n",
    "            \"too_far\",\n",
    "            \"bad_pose\",\n",
    "            \"bad_quat\",\n",
    "            \"fall\",\n",
    "        ],\n",
    "    )\n",
    "\n",
    "    return cfg"
   ]
  },
  {
   "cell_type": "code",
   "execution_count": null,
   "metadata": {},
   "outputs": [],
   "source": [
    "cfg = load_config_from_checkpoint(ckpt_path)\n",
    "cfg['data_path'] = \"/root/vast/kaiwen/track-mjx/data/RodentReferenceClip.h5\"\n",
    "env = rollout.create_environment(cfg)\n",
    "key = jax.random.PRNGKey(0)\n",
    "env_state = env.reset(key)"
   ]
  },
  {
   "cell_type": "code",
   "execution_count": 78,
   "metadata": {},
   "outputs": [],
   "source": [
    "cfg = patch(cfg, env_state, env, True)"
   ]
  },
  {
   "cell_type": "code",
   "execution_count": null,
   "metadata": {},
   "outputs": [],
   "source": [
    "cfg['network_config']"
   ]
  },
  {
   "cell_type": "code",
   "execution_count": 80,
   "metadata": {},
   "outputs": [],
   "source": [
    "def cfg_only_load_checkpoint_for_eval(\n",
    "    checkpoint_path: str,\n",
    "    cfg: OmegaConf | dict,\n",
    "    step_prefix: str = \"PPONetwork\",\n",
    "    step: int | None = None,\n",
    "):\n",
    "    if not OmegaConf.is_config(cfg):\n",
    "        cfg = OmegaConf.create(cfg)\n",
    "\n",
    "    mgr_opts = ocp.CheckpointManagerOptions(create=False, step_prefix=step_prefix)\n",
    "    ckpt_mgr = ocp.CheckpointManager(checkpoint_path, options=mgr_opts)\n",
    "\n",
    "    if step is None:\n",
    "        step = ckpt_mgr.latest_step()\n",
    "    logging.info(f\"Loading checkpoint from {checkpoint_path} @ step {step}\")\n",
    "\n",
    "    # 5) restore the policy (assumes you have a `load_policy` util)\n",
    "    policy = checkpointing.load_policy(\n",
    "        checkpoint_path=checkpoint_path,\n",
    "        cfg=cfg,\n",
    "        ckpt_mgr=ckpt_mgr,\n",
    "        step_prefix=step_prefix,\n",
    "        step=step,\n",
    "    )\n",
    "\n",
    "    return {\"cfg\": cfg, \"policy\": policy}"
   ]
  },
  {
   "cell_type": "code",
   "execution_count": null,
   "metadata": {},
   "outputs": [],
   "source": [
    "# # Load config from checkpoint\n",
    "ckpt = cfg_only_load_checkpoint_for_eval(ckpt_path, cfg)\n",
    "\n",
    "# cfg = ckpt[\"cfg\"]\n",
    "\n",
    "# # make some changes to the config\n",
    "# # replace with absolute path to your data\n",
    "# # -- your notebook may not have access to the same relative path\n",
    "# cfg.data_path = \"/root/vast/scott-yang/track-mjx/data/transform_snips.h5\"\n",
    "# cfg.train_setup.checkpoint_to_restore = ckpt_path"
   ]
  },
  {
   "cell_type": "markdown",
   "metadata": {},
   "source": [
    "### Restore policy and make rollout functions"
   ]
  },
  {
   "cell_type": "code",
   "execution_count": 82,
   "metadata": {},
   "outputs": [],
   "source": [
    "cfg = OmegaConf.create(cfg)\n",
    "env = rollout.create_environment(cfg)\n",
    "inference_fn = checkpointing.load_inference_fn(cfg, ckpt[\"policy\"])\n",
    "generate_rollout = rollout.create_rollout_generator(cfg, env, inference_fn, model='lstm')"
   ]
  },
  {
   "cell_type": "markdown",
   "metadata": {},
   "source": [
    "### Generate rollouts from the checkpoint\n",
    "\n",
    "After we load the checkpoint, we can do inference on the rollout!"
   ]
  },
  {
   "cell_type": "markdown",
   "metadata": {},
   "source": [
    "We can generate a rollout imitating single clip, specified by the clip index. The first time you call the function there will be ~1-3min of compilation time, after which it will take only a few seconds."
   ]
  },
  {
   "cell_type": "code",
   "execution_count": null,
   "metadata": {},
   "outputs": [],
   "source": [
    "clip_idx = 41\n",
    "single_rollout = generate_rollout(clip_idx=clip_idx, seed=0)"
   ]
  },
  {
   "cell_type": "code",
   "execution_count": null,
   "metadata": {},
   "outputs": [],
   "source": [
    "single_rollout[\"activations\"][\"decoder_inputs\"]"
   ]
  },
  {
   "cell_type": "code",
   "execution_count": null,
   "metadata": {},
   "outputs": [],
   "source": [
    "single_rollout[\"activations\"][\"hidden_states\"]"
   ]
  },
  {
   "cell_type": "markdown",
   "metadata": {},
   "source": [
    "#### Batch Generating Rollouts\n",
    "\n",
    "Alternatively, you can use `jax.vmap` to parallelize the rollout function. This is useful for performing a rollout over an entire dataset for eval/analysis purposes. We pass in a 1D array of clip indexes (`clip_idxs`) as input. \n",
    "\n",
    "The first run for this will also have a few minutes of compilation time.\n",
    "\n",
    "**Note:** `vmap` compiles based on the input shape. This means that if you use the same length for `clip_idxs`, JAX will reuse the compiled function for acceleration. However, if the input length changes, JAX will **recompile the entire function**, incurring additional overhead."
   ]
  },
  {
   "cell_type": "code",
   "execution_count": null,
   "metadata": {},
   "outputs": [],
   "source": [
    "# Generate rollout for 5 clips simultaneously\n",
    "jit_vmap_generate_rollout = jax.jit(jax.vmap(generate_rollout))\n",
    "clip_idxs = jp.arange(0, 5)\n",
    "jit_vmap_out = jit_vmap_generate_rollout(clip_idxs)"
   ]
  },
  {
   "cell_type": "code",
   "execution_count": null,
   "metadata": {},
   "outputs": [],
   "source": [
    "# Running it with a different clip_idxs length will cause reocmpilation\n",
    "clip_idxs = jp.arange(15, 30)\n",
    "jit_vmap_out2 = jit_vmap_generate_rollout(clip_idxs)"
   ]
  },
  {
   "cell_type": "markdown",
   "metadata": {},
   "source": [
    "### Step 4: Save it to disk"
   ]
  },
  {
   "cell_type": "code",
   "execution_count": null,
   "metadata": {},
   "outputs": [],
   "source": [
    "save_path = Path(ckpt_path) / f\"rollout_{clip_idx}.h5\"\n",
    "print(f\"Saving rollout to {save_path}\")"
   ]
  },
  {
   "cell_type": "code",
   "execution_count": 9,
   "metadata": {},
   "outputs": [],
   "source": [
    "utils.save_to_h5py(save_path.resolve(), single_rollout)"
   ]
  },
  {
   "cell_type": "markdown",
   "metadata": {},
   "source": [
    "# Render Rollout Videos from the Saved Rollouts"
   ]
  },
  {
   "cell_type": "markdown",
   "metadata": {},
   "source": [
    "## Load the rollout file"
   ]
  },
  {
   "cell_type": "code",
   "execution_count": 10,
   "metadata": {},
   "outputs": [],
   "source": [
    "rollout = utils.load_from_h5py(save_path)"
   ]
  },
  {
   "cell_type": "markdown",
   "metadata": {},
   "source": [
    "## Render rollout\n",
    "\n",
    "Note: Currently only works for single rollouts"
   ]
  },
  {
   "cell_type": "code",
   "execution_count": null,
   "metadata": {},
   "outputs": [],
   "source": [
    "frames, realtime_framerate = render.render_rollout(cfg, single_rollout)\n",
    "render.display_video(frames, framerate=realtime_framerate)"
   ]
  },
  {
   "cell_type": "code",
   "execution_count": null,
   "metadata": {},
   "outputs": [],
   "source": []
  }
 ],
 "metadata": {
  "kernelspec": {
   "display_name": "track-mjx",
   "language": "python",
   "name": "python3"
  },
  "language_info": {
   "codemirror_mode": {
    "name": "ipython",
    "version": 3
   },
   "file_extension": ".py",
   "mimetype": "text/x-python",
   "name": "python",
   "nbconvert_exporter": "python",
   "pygments_lexer": "ipython3",
   "version": "3.11.10"
  }
 },
 "nbformat": 4,
 "nbformat_minor": 2
}
