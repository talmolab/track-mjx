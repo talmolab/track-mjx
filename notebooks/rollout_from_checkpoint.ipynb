{
 "cells": [
  {
   "cell_type": "markdown",
   "metadata": {},
   "source": [
    "# Generate and render a rollout for existing checkpoint\n",
    "\n",
    "This notebook demonstrates how to load a training checkpoint, perform a rollout, and render the result. Full network activations are saved as an output of this rollout for further analysis."
   ]
  },
  {
   "cell_type": "markdown",
   "metadata": {},
   "source": [
    "## Imports"
   ]
  },
  {
   "cell_type": "code",
   "execution_count": null,
   "metadata": {},
   "outputs": [],
   "source": [
    "%load_ext autoreload\n",
    "%autoreload 2\n",
    "\n",
    "import os\n",
    "\n",
    "os.environ[\"XLA_PYTHON_CLIENT_PREALLOCATE\"] = \"false\"\n",
    "\n",
    "# Change this to egl or glfw if available\n",
    "os.environ[\"MUJOCO_GL\"] = \"glfw\"\n",
    "import mediapy as media\n",
    "\n",
    "from track_mjx.agent import checkpointing\n",
    "from track_mjx.analysis import rollout, render, utils\n",
    "\n",
    "import jax\n",
    "from jax import numpy as jp\n",
    "from pathlib import Path"
   ]
  },
  {
   "cell_type": "markdown",
   "metadata": {},
   "source": [
    "## Load checkpoint"
   ]
  },
  {
   "cell_type": "code",
   "execution_count": null,
   "metadata": {},
   "outputs": [],
   "source": [
    "# replace with your checkpoint path\n",
    "ckpt_path = \"/root/vast/kaiwen/track-mjx/model_checkpoints/charles_good_rodent_data/250613_173348_472536\" #ar_rodent_data/AR_250619_140732_166355\n",
    "# Load config from checkpoint \n",
    "ckpt = checkpointing.load_checkpoint_for_eval(ckpt_path)\n",
    "\n",
    "cfg = ckpt[\"cfg\"]\n",
    "\n",
    "# make some changes to the config\n",
    "# replace with absolute path to your data\n",
    "# -- your notebook may not have access to the same relative path\n",
    "# cfg.data_path = Path.cwd().parent / \"data/transform_snips.h5\"\n",
    "cfg.data_path = \"/root/vast/kaiwen/track-mjx/data/RodentReferenceClip.h5\"\n",
    "cfg.train_setup.checkpoint_to_restore = ckpt_path"
   ]
  },
  {
   "cell_type": "markdown",
   "metadata": {},
   "source": [
    "### Restore policy and make rollout functions"
   ]
  },
  {
   "cell_type": "code",
   "execution_count": null,
   "metadata": {},
   "outputs": [],
   "source": [
    "env = rollout.create_environment(cfg)\n",
    "inference_fn = checkpointing.load_inference_fn(cfg, ckpt[\"policy\"])\n",
    "generate_rollout = rollout.create_rollout_generator(\n",
    "    cfg, \n",
    "    env, \n",
    "    inference_fn, \n",
    "    log_activations=True, \n",
    "    log_metrics=True, \n",
    "    log_sensor_data=True\n",
    ")"
   ]
  },
  {
   "cell_type": "markdown",
   "metadata": {},
   "source": [
    "### Generate rollouts from the checkpoint\n",
    "\n",
    "After we load the checkpoint, we can do inference on the rollout!"
   ]
  },
  {
   "cell_type": "markdown",
   "metadata": {},
   "source": [
    "We can generate a rollout imitating single clip, specified by the clip index. The first time you call the function there will be ~1-3min of compilation time, after which it will take only a few seconds."
   ]
  },
  {
   "cell_type": "code",
   "execution_count": null,
   "metadata": {},
   "outputs": [],
   "source": [
    "single_rollout = generate_rollout(clip_idx=0)"
   ]
  },
  {
   "cell_type": "code",
   "execution_count": null,
   "metadata": {},
   "outputs": [],
   "source": [
    "single_rollout['activations']['egocentric_obs'].shape"
   ]
  },
  {
   "cell_type": "code",
   "execution_count": null,
   "metadata": {},
   "outputs": [],
   "source": [
    "single_rollout['activations']['intention'].shape"
   ]
  },
  {
   "cell_type": "code",
   "execution_count": null,
   "metadata": {},
   "outputs": [],
   "source": [
    "single_rollout['ctrl'].shape"
   ]
  },
  {
   "cell_type": "code",
   "execution_count": null,
   "metadata": {},
   "outputs": [],
   "source": [
    "single_rollout['state_rewards'].shape"
   ]
  },
  {
   "cell_type": "code",
   "execution_count": null,
   "metadata": {},
   "outputs": [],
   "source": [
    "single_rollout['qposes_rollout'].shape"
   ]
  },
  {
   "cell_type": "code",
   "execution_count": null,
   "metadata": {},
   "outputs": [],
   "source": [
    "frames, realtime_framerate = render.render_rollout(\n",
    "    cfg, \n",
    "    single_rollout, \n",
    "    height=480,\n",
    "    width=640,\n",
    ")\n",
    "\n",
    "# save the video to disk\n",
    "# media.write_video(Path(ckpt_path) / \"rollout.mp4\", frames, fps=realtime_framerate)\n",
    "media.show_video(frames, fps=realtime_framerate)"
   ]
  },
  {
   "cell_type": "markdown",
   "metadata": {},
   "source": [
    "### Step 4: Save it to disk"
   ]
  },
  {
   "cell_type": "code",
   "execution_count": 8,
   "metadata": {},
   "outputs": [],
   "source": [
    "save_path = Path(ckpt_path) / \"rollout.h5\""
   ]
  },
  {
   "cell_type": "code",
   "execution_count": 9,
   "metadata": {},
   "outputs": [],
   "source": [
    "utils.save_to_h5py(save_path.resolve(), single_rollout)"
   ]
  },
  {
   "cell_type": "markdown",
   "metadata": {},
   "source": [
    "### Step 5: you can load it too"
   ]
  },
  {
   "cell_type": "code",
   "execution_count": null,
   "metadata": {},
   "outputs": [],
   "source": [
    "rollout = utils.load_from_h5py(save_path)"
   ]
  },
  {
   "cell_type": "markdown",
   "metadata": {},
   "source": [
    "## Render rollout\n",
    "\n",
    "Note: Currently only works for single rollouts"
   ]
  },
  {
   "cell_type": "markdown",
   "metadata": {},
   "source": [
    "#### Batch Generating Rollouts\n",
    "\n",
    "Alternatively, you can use `jax.vmap` to parallelize the rollout function. This is useful for performing a rollout over an entire dataset for eval/analysis purposes. We pass in a 1D array of clip indexes (`clip_idxs`) as input. \n",
    "\n",
    "The first run for this will also have a few minutes of compilation time.\n",
    "\n",
    "**Note:** `vmap` compiles based on the input shape. This means that if you use the same length for `clip_idxs`, JAX will reuse the compiled function for acceleration. However, if the input length changes, JAX will **recompile the entire function**, incurring additional overhead."
   ]
  },
  {
   "cell_type": "code",
   "execution_count": 9,
   "metadata": {},
   "outputs": [],
   "source": [
    "# Generate rollout for 5 clips simultaneously\n",
    "jit_vmap_generate_rollout = jax.jit(jax.vmap(generate_rollout))\n",
    "clip_idxs = jp.arange(0, 842)\n",
    "jit_vmap_out = jit_vmap_generate_rollout(clip_idxs)"
   ]
  },
  {
   "cell_type": "code",
   "execution_count": 10,
   "metadata": {},
   "outputs": [],
   "source": [
    "# Running it with a different clip_idxs length will cause reocmpilation\n",
    "clip_idxs = jp.arange(15, 30)\n",
    "jit_vmap_out2 = jit_vmap_generate_rollout(clip_idxs)"
   ]
  },
  {
   "cell_type": "code",
   "execution_count": null,
   "metadata": {},
   "outputs": [],
   "source": [
    "from track_mjx.analysis.utils import save_to_h5py\n",
    "from tqdm import tqdm\n",
    "\n",
    "for i in tqdm(range(0, 842)):\n",
    "    output = generate_rollout(i)\n",
    "    path = f\"/root/vast/kaiwen/track-mjx/rollouts/rodent_gau_minimal/clip_{i}.h5\"\n",
    "    new_dict = {\n",
    "        'obs':output['activations']['egocentric_obs'],\n",
    "        'intention':output['activations']['intention'],\n",
    "        'ctrl':output['ctrl'],\n",
    "        'reward':output['state_rewards'],\n",
    "        'qpos':output['qposes_rollout'],\n",
    "                }\n",
    "    save_to_h5py(path, new_dict)"
   ]
  },
  {
   "cell_type": "code",
   "execution_count": null,
   "metadata": {},
   "outputs": [],
   "source": [
    "from track_mjx.analysis.utils import save_to_h5py\n",
    "from tqdm import tqdm\n",
    "\n",
    "for i in tqdm(range(0, 842)):\n",
    "    output = generate_rollout(i)\n",
    "    path = f\"/root/vast/kaiwen/track-mjx/rollouts/rodent_gau/clip_{i}.h5\"\n",
    "    save_to_h5py(path, output)"
   ]
  },
  {
   "cell_type": "code",
   "execution_count": null,
   "metadata": {},
   "outputs": [],
   "source": []
  }
 ],
 "metadata": {
  "kernelspec": {
   "display_name": "rl",
   "language": "python",
   "name": "python3"
  },
  "language_info": {
   "codemirror_mode": {
    "name": "ipython",
    "version": 3
   },
   "file_extension": ".py",
   "mimetype": "text/x-python",
   "name": "python",
   "nbconvert_exporter": "python",
   "pygments_lexer": "ipython3",
   "version": "3.11.10"
  }
 },
 "nbformat": 4,
 "nbformat_minor": 2
}
