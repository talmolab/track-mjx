{
 "cells": [
  {
   "cell_type": "markdown",
   "metadata": {},
   "source": [
    "# Welcome to the `track-mjx` Workshop!\n",
    "\n",
    "In this document, I am going to guide you set up the running environment for the `track-mjx`, both using Docker image, and using conda environment.\n",
    "\n",
    "> Make sure you have a NVIDIA GPU enabled Linux environment setup for this repo."
   ]
  },
  {
   "cell_type": "markdown",
   "metadata": {
    "vscode": {
     "languageId": "plaintext"
    }
   },
   "source": [
    "## Option 1: Running `track-mjx` on a Bare-Metal Linux Machine\n",
    "\n",
    "### Installation\n",
    "\n",
    "1. Clone the repository with the following command:\n",
    "    ```bash\n",
    "    git clone https://github.com/talmolab/track-mjx.git && cd track-mjx\n",
    "    ```\n",
    "2. Create a new development environment via `conda`:\n",
    "    ```bash\n",
    "    conda env create -f environment.yml\n",
    "    ```\n",
    "    This will install the necessary dependencies and install the package in editable mode.\n",
    "3. Test the environment.\n",
    "    Active the conda environment that was just installed:\n",
    "    ```bash\n",
    "    conda activate track_mjx\n",
    "    ```\n",
    "    Then run `jupyter lab` and execute the tests in [`notebooks/test_setup.ipynb`](notebooks/test_setup.ipynb). This will check if MuJoCo, GPU support and JAX appear to be working.\n"
   ]
  },
  {
   "cell_type": "markdown",
   "metadata": {},
   "source": [
    "## Option 2: Running `track-mjx` using docker image\n",
    "\n",
    "> Make sure you have docker daemon running in your computer. Run the following command.\n",
    "\n",
    "> To allow GPU passthrough to the running docker image, you need to install the [NVIDIA Container Toolkit](https://docs.nvidia.com/datacenter/cloud-native/container-toolkit/latest/install-guide.html) if you haven't do so.\n",
    "\n",
    "<!-- Need to re-test the docker system locally in Linux/Windows -->\n",
    "\n",
    "Pull and run the docker image from the DockerHub registry:\n",
    "\n",
    "```bash\n",
    "docker run --gpus all -e NVIDIA_DRIVER_CAPABILITIES=all -p 8888:22 scottyang17/track-mjx:vscode-v1\n",
    "```\n",
    "\n",
    "The `8888` is the local port that you want to forward to. Choose one that's unoccupied as you'll use this later to connect to the Docker container from VSCode.\n",
    "\n",
    "[See\n",
    "here](https://github.com/talmolab/internal-dockerfiles/tree/3245903ec48b633ae205eeab0583d6413c32530b/remote-dev)\n",
    "for more info on our Remote Dev Docker image.\n",
    "\n",
    "\n",
    "### Setup VS Code Remote Dev\n",
    "\n",
    "First, install the `Remote Development` (with id: ms-vscode-remote.vscode-remote-extensionpack) extension on vscode. Bring up the command palette, search and choose `Remote-SSH: Connect to Host` -> `Configure SSH Hosts` -> `<your ssh config path>`, and put following config:\n",
    "\n",
    "```\n",
    "Host local-testing\n",
    "    HostName <ip>\n",
    "    Port <port>\n",
    "    User root\n",
    "```\n",
    "\n",
    "The `<ip>` will be `localhost` if running on the same machine, or the IP of the remote machine if running on a cluster.\n",
    "\n",
    "Bring up your command palette, choose `Remote-SSH: Connect to Host` -> `track-mjx-remote-dev`, type in the password `root`, you are now connecting to the image.\n"
   ]
  },
  {
   "cell_type": "code",
   "execution_count": null,
   "metadata": {
    "vscode": {
     "languageId": "plaintext"
    }
   },
   "outputs": [],
   "source": []
  },
  {
   "cell_type": "code",
   "execution_count": null,
   "metadata": {
    "vscode": {
     "languageId": "plaintext"
    }
   },
   "outputs": [],
   "source": []
  },
  {
   "cell_type": "code",
   "execution_count": null,
   "metadata": {
    "vscode": {
     "languageId": "plaintext"
    }
   },
   "outputs": [],
   "source": []
  }
 ],
 "metadata": {
  "language_info": {
   "name": "python"
  }
 },
 "nbformat": 4,
 "nbformat_minor": 2
}
