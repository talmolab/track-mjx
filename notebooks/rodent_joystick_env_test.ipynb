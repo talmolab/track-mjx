{
 "cells": [
  {
   "cell_type": "markdown",
   "metadata": {},
   "source": [
    "# Notebook for testing joystick environment for rodent"
   ]
  },
  {
   "cell_type": "code",
   "execution_count": 2,
   "metadata": {},
   "outputs": [
    {
     "name": "stdout",
     "output_type": "stream",
     "text": [
      "The autoreload extension is already loaded. To reload it, use:\n",
      "  %reload_ext autoreload\n"
     ]
    }
   ],
   "source": [
    "%load_ext autoreload\n",
    "%autoreload 2"
   ]
  },
  {
   "cell_type": "code",
   "execution_count": 10,
   "metadata": {},
   "outputs": [],
   "source": [
    "from track_mjx.environment.task import joysticks\n",
    "import jax\n",
    "import jax.numpy as jnp"
   ]
  },
  {
   "cell_type": "code",
   "execution_count": 14,
   "metadata": {},
   "outputs": [],
   "source": [
    "env = joysticks.RodentJoystick()\n",
    "rng = jax.random.PRNGKey(0)\n",
    "\n",
    "init_state = env.reset(rng)"
   ]
  },
  {
   "cell_type": "code",
   "execution_count": 19,
   "metadata": {},
   "outputs": [],
   "source": [
    "state = env.step(init_state, jnp.zeros(env.action_size))"
   ]
  },
  {
   "cell_type": "code",
   "execution_count": 25,
   "metadata": {},
   "outputs": [
    {
     "data": {
      "text/plain": [
       "{'reward/action_rate': Array(-0., dtype=float32),\n",
       " 'reward/ang_vel_xy': Array(-0.69333667, dtype=float32),\n",
       " 'reward/dof_pos_limits': Array(-0.08236387, dtype=float32),\n",
       " 'reward/energy': Array(0., dtype=float32),\n",
       " 'reward/feet_air_time': Array(0., dtype=float32),\n",
       " 'reward/feet_clearance': Array(0., dtype=float32),\n",
       " 'reward/feet_height': Array(0., dtype=float32),\n",
       " 'reward/feet_slip': Array(0., dtype=float32),\n",
       " 'reward/lin_vel_z': Array(-0.09913663, dtype=float32),\n",
       " 'reward/orientation': Array(-0.01637488, dtype=float32),\n",
       " 'reward/pose': Array(0.49134725, dtype=float32),\n",
       " 'reward/stand_still': Array(-0., dtype=float32),\n",
       " 'reward/termination': Array(0., dtype=float32, weak_type=True),\n",
       " 'reward/torques': Array(-0.00018875, dtype=float32),\n",
       " 'reward/tracking_ang_vel': Array(0.01216787, dtype=float32),\n",
       " 'reward/tracking_lin_vel': Array(0.00091814, dtype=float32),\n",
       " 'swing_peak': Array(0., dtype=float32)}"
      ]
     },
     "execution_count": 25,
     "metadata": {},
     "output_type": "execute_result"
    }
   ],
   "source": [
    "state.metrics"
   ]
  },
  {
   "cell_type": "code",
   "execution_count": null,
   "metadata": {},
   "outputs": [],
   "source": []
  }
 ],
 "metadata": {
  "kernelspec": {
   "display_name": "track-mjx",
   "language": "python",
   "name": "python3"
  },
  "language_info": {
   "codemirror_mode": {
    "name": "ipython",
    "version": 3
   },
   "file_extension": ".py",
   "mimetype": "text/x-python",
   "name": "python",
   "nbconvert_exporter": "python",
   "pygments_lexer": "ipython3",
   "version": "3.11.11"
  }
 },
 "nbformat": 4,
 "nbformat_minor": 2
}
