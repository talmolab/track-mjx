{
 "cells": [
  {
   "cell_type": "markdown",
   "metadata": {},
   "source": [
    "# Module Structure Brainstorming"
   ]
  },
  {
   "cell_type": "markdown",
   "metadata": {},
   "source": [
    "```mermaid\n",
    "graph TD\n",
    "    track-mjx -- training scripts and logging --> agent\n",
    "    track-mjx -- env / task / walker creation  --> environment\n",
    "    track-mjx -- input preprocessing / model checkpoint --> io\n",
    "\n",
    "    subgraph \" \"\n",
    "    agent --> logging\n",
    "    agent --> RL-training-scripts \n",
    "    end\n",
    "\n",
    "    subgraph \" \"\n",
    "    environment --> wrappers\n",
    "    environment --> walker\n",
    "    environment --> tasks\n",
    "    end\n",
    "\n",
    "    subgraph \" \"\n",
    "    io --> checkpoint\n",
    "    io --> preprocess\n",
    "    end\n",
    "```"
   ]
  },
  {
   "cell_type": "markdown",
   "metadata": {},
   "source": []
  }
 ],
 "metadata": {
  "language_info": {
   "name": "python"
  }
 },
 "nbformat": 4,
 "nbformat_minor": 2
}
