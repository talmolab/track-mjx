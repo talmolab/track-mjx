{
 "cells": [
  {
   "cell_type": "markdown",
   "metadata": {},
   "source": [
    "# Generates Rollout for existing Checkpoint\n",
    "\n",
    "This notebook will demonstrate the clean usage of the `track_mjx.analysis.rollout` module, which allows user to load the checkpoint from the previous training run, and perform a rollout of the checkpoint. This module abstracted away all the boilerplate codes for initializing the environment, and it is very clean and digestible, while customizable.\n",
    "\n",
    "### Step 1: Imports and recover the config"
   ]
  },
  {
   "cell_type": "code",
   "execution_count": null,
   "metadata": {},
   "outputs": [],
   "source": [
    "# set environment variables for rendering\n",
    "%env MUJOCO_GL=egl\n",
    "%env PYOPENGL_PLATFORM=egl\n",
    "%matplotlib inline\n",
    "%load_ext autoreload\n",
    "%autoreload 2\n",
    "\n",
    "from omegaconf import OmegaConf\n",
    "from track_mjx.analysis.rollout import (\n",
    "    restore_config,\n",
    "    create_rollout_generator,\n",
    "    create_environment,\n",
    "    create_inference_fn,\n",
    ")\n",
    "from track_mjx.analysis.render import (\n",
    "    render_from_saved_rollout,\n",
    "    display_video,\n",
    "\n",
    ")\n",
    "from jax import numpy as jp\n",
    "\n",
    "# save and load\n",
    "from track_mjx.analysis.utils import save_to_h5py\n",
    "import h5py\n",
    "from tqdm import tqdm\n",
    "\n",
    "from IPython.display import clear_output\n",
    "\n",
    "# recover the config\n",
    "# ckpt_path = \"/root/vast/scott-yang/track-mjx/model_checkpoints/rodent_data/ReferenceClip.p_250127_062443\"\n",
    "# ckpt_path = \"/root/vast/scott-yang/track-mjx/model_checkpoints/250409_063617\"\n",
    "ckpt_path = \"/root/vast/kaiwen/track-mjx/model_checkpoints/fly_data/FlyReferenceClipFull.p_250130_061146\"\n",
    "# ckpt_path = \"/root/vast/kaiwen/track-mjx/model_checkpoints/rodent_data/RodentReferenceClip.h5_250416_022944\" # LSTM checkpoint\n",
    "config = restore_config(ckpt_path)\n",
    "cfg = OmegaConf.create(config)\n",
    "\n",
    "# make some changes to the config\n",
    "# replace with absolute path to your data\n",
    "# -- your notebook may not have access to the same relative path\n",
    "# cfg.data_path = \"/root/vast/scott-yang/track-mjx/data/ReferenceClip.p\"\n",
    "cfg.data_path = \"/root/vast/kaiwen/track-mjx/data/FlyReferenceClipFull.p\"\n",
    "cfg.train_setup.checkpoint_to_restore = ckpt_path"
   ]
  },
  {
   "cell_type": "markdown",
   "metadata": {},
   "source": [
    "### Step 2: Restore policy and make rollout functions"
   ]
  },
  {
   "cell_type": "code",
   "execution_count": null,
   "metadata": {},
   "outputs": [],
   "source": [
    "env = create_environment(cfg)\n",
    "inference_fn = create_inference_fn(env, cfg)\n",
    "generate_rollout = create_rollout_generator(cfg[\"reference_config\"], env, inference_fn)"
   ]
  },
  {
   "cell_type": "code",
   "execution_count": null,
   "metadata": {},
   "outputs": [],
   "source": [
    "env.walker._pair_rendering_xml_path"
   ]
  },
  {
   "cell_type": "code",
   "execution_count": null,
   "metadata": {},
   "outputs": [],
   "source": [
    "model = env.walker._mjcf_model.model.ptr\n",
    "for i in range(model.nsensor):\n",
    "    print(f\"{model.sensor(i).name}: dim={model.sensor_dim[i]}\")"
   ]
  },
  {
   "cell_type": "markdown",
   "metadata": {},
   "source": [
    "### Step 3: Generate rollouts from the checkpoint!\n",
    "\n",
    "After we load the checkpoint, we can do inference on the rollout!\n",
    "\n",
    "#### Generate rollout for a single clip\n",
    "\n",
    "The following cell will generate rollout for a single clip, specified by the clip id. The first time you call the function JAX needs to complete the `JIT` compilation, which will take around 3 minutes to execute and compile. After compilation, generates the rollout will only take about 8 seconds, since it is hardware accelerated."
   ]
  },
  {
   "cell_type": "code",
   "execution_count": 5,
   "metadata": {},
   "outputs": [],
   "source": [
    "import jax\n",
    "\n",
    "# first pass will take ~2m38s to run to compile\n",
    "# after complied, it only takes ~9 seconds to run\n",
    "output = generate_rollout(8)"
   ]
  },
  {
   "cell_type": "code",
   "execution_count": null,
   "metadata": {},
   "outputs": [],
   "source": [
    "frames = render_from_saved_rollout(output, walker_name='rodent')\n",
    "display_video(frames, framerate=50)"
   ]
  },
  {
   "cell_type": "markdown",
   "metadata": {},
   "source": [
    "#### Batch Generating Rollouts\n",
    "\n",
    "Alternatively, you can use `jax.vmap` to parallelize the rollout function. To do so, pass a 1D array of clip indexes (`clip_idxs`) as input. \n",
    "\n",
    "On the first call, JAX will perform `JIT` compilation, which takes approximately **3 minutes**. Once compiled, subsequent rollouts execute in just **8 seconds**, benefiting from hardware acceleration.\n",
    "\n",
    "**Note:** `vmap` compiles based on the input shape. This means that if you use the same length for `clip_idxs`, JAX will reuse the compiled function for acceleration. However, if the input length changes, JAX will **recompile the entire function**, incurring additional overhead."
   ]
  },
  {
   "cell_type": "code",
   "execution_count": 9,
   "metadata": {},
   "outputs": [],
   "source": [
    "# generate rollout for 5 clips simultaneously\n",
    "jit_vmap_generate_rollout = jax.jit(jax.vmap(generate_rollout))\n",
    "clip_idxs = jp.arange(0, 5)\n",
    "jit_vmap_out = jit_vmap_generate_rollout(clip_idxs)"
   ]
  },
  {
   "cell_type": "code",
   "execution_count": 10,
   "metadata": {},
   "outputs": [],
   "source": [
    "# hardware acceleration: 5 clips simultaneously\n",
    "clip_idxs = jp.arange(10, 15)\n",
    "jit_vmap_out2 = jit_vmap_generate_rollout(clip_idxs)"
   ]
  },
  {
   "cell_type": "code",
   "execution_count": 5,
   "metadata": {},
   "outputs": [],
   "source": [
    "# triggers recompilation: 15 clips simultaneously\n",
    "clip_idxs = jp.arange(15, 30)\n",
    "jit_vmap_out2 = jit_vmap_generate_rollout(clip_idxs)"
   ]
  },
  {
   "cell_type": "markdown",
   "metadata": {},
   "source": [
    "### Step 4: Save it to disk"
   ]
  },
  {
   "cell_type": "code",
   "execution_count": 4,
   "metadata": {},
   "outputs": [],
   "source": [
    "jit_vmap_out['joint_forces'].shape"
   ]
  },
  {
   "cell_type": "code",
   "execution_count": null,
   "metadata": {},
   "outputs": [],
   "source": [
    "for i in tqdm(range(500)):\n",
    "    output = generate_rollout(i)\n",
    "    with h5py.File(f\"/root/vast/kaiwen/track-mjx/force_analysis_rollout_fly/clip_{i}.h5\", \"w\") as h5file:\n",
    "        save_to_h5py(h5file, output)\n",
    "    clear_output(wait=True)"
   ]
  }
 ],
 "metadata": {
  "kernelspec": {
   "display_name": "track-mjx",
   "language": "python",
   "name": "python3"
  },
  "language_info": {
   "codemirror_mode": {
    "name": "ipython",
    "version": 3
   },
   "file_extension": ".py",
   "mimetype": "text/x-python",
   "name": "python",
   "nbconvert_exporter": "python",
   "pygments_lexer": "ipython3",
   "version": "3.11.10"
  }
 },
 "nbformat": 4,
 "nbformat_minor": 2
}
