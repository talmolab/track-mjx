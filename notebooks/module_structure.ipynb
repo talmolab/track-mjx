{
 "cells": [
  {
   "cell_type": "markdown",
   "metadata": {},
   "source": [
    "# Module Structure Brainstorming"
   ]
  },
  {
   "cell_type": "markdown",
   "metadata": {},
   "source": [
    "```mermaid\n",
    "graph TD\n",
    "    A[Start] --> B{Is it raining?}\n",
    "    B -- Yes --> C[Take an umbrella]\n",
    "    B -- No --> D[Go outside]\n",
    "    C --> E[Walk to the store]\n",
    "    D --> E\n",
    "    E --> F[End]\n",
    "```"
   ]
  },
  {
   "cell_type": "markdown",
   "metadata": {},
   "source": []
  }
 ],
 "metadata": {
  "language_info": {
   "name": "python"
  }
 },
 "nbformat": 4,
 "nbformat_minor": 2
}
