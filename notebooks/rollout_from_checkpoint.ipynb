{
 "cells": [
  {
   "cell_type": "markdown",
   "metadata": {},
   "source": [
    "# Generate and render a rollout for existing checkpoint\n",
    "\n",
    "This notebook demonstrates how to load a training checkpoint, perform a rollout, and render the result. Full network activations are saved as an output of this rollout for further analysis.\n",
    "\n",
    "## Terminology\n",
    "\n",
    "**Rollout** - a process of running a trained agent in an environment to collect data. In this case, we will run the agent in the environment and save the activations of the network.\n",
    "\n",
    "**Rollout File** - a file containing the activations of the network for each step of the rollout for a specific episode, saved in `.h5` formats."
   ]
  },
  {
   "cell_type": "markdown",
   "metadata": {},
   "source": [
    "## Imports"
   ]
  },
  {
   "cell_type": "code",
   "execution_count": null,
   "metadata": {},
   "outputs": [],
   "source": [
    "%load_ext autoreload\n",
    "%autoreload 2\n",
    "\n",
    "import os\n",
    "import logging\n",
    "# Send logging outputs to stdout (comment this out if preferred)\n",
    "# logger = logging.getLogger()\n",
    "# logger.setLevel(logging.INFO)\n",
    "\n",
    "# Change this to egl or glfw if available\n",
    "os.environ[\"MUJOCO_GL\"] = \"egl\"\n",
    "os.environ[\"PYOPENGL_PLATFORM\"] = \"egl\"\n",
    "os.environ[\"XLA_PYTHON_CLIENT_PREALLOCATE\"] = \"false\"\n",
    "\n",
    "\n",
    "from track_mjx.agent import checkpointing\n",
    "from track_mjx.analysis import rollout, render, utils\n",
    "\n",
    "import jax\n",
    "from jax import numpy as jp\n",
    "from pathlib import Path\n",
    "from orbax import checkpoint as ocp\n",
    "from omegaconf import OmegaConf\n",
    "\n",
    "# Enable persistent compilation cache.\n",
    "jax.config.update(\"jax_compilation_cache_dir\", \"/tmp/jax_cache\")\n",
    "jax.config.update(\"jax_persistent_cache_min_entry_size_bytes\", -1)\n",
    "jax.config.update(\"jax_persistent_cache_min_compile_time_secs\", 0)"
   ]
  },
  {
   "cell_type": "markdown",
   "metadata": {},
   "source": [
    "## Load checkpoint\n",
    "\n",
    "If you are facing issues where the bug indicates that there are `config names` missing, it is likely that you are using a checkpoint that is older than the track-mjx system. Hence, you need to patch the old checkpoint configs to match with the new system. setting."
   ]
  },
  {
   "cell_type": "code",
   "execution_count": 17,
   "metadata": {},
   "outputs": [
    {
     "name": "stdout",
     "output_type": "stream",
     "text": [
      "Loading checkpoint from /root/vast/scott-yang/track-mjx/model_checkpoints/250521_200910 at step 158\n"
     ]
    }
   ],
   "source": [
    "# replace with your checkpoint path\n",
    "ckpt_path = \"/root/vast/scott-yang/track-mjx/model_checkpoints/250521_200910\"\n",
    "ckpt = checkpointing.load_checkpoint_for_eval(ckpt_path)\n",
    "\n",
    "# Load config from checkpoint\n",
    "cfg = ckpt[\"cfg\"]\n",
    "\n",
    "# make some changes to the config\n",
    "# replace with absolute path to your data\n",
    "# -- your notebook may not have access to the same relative path\n",
    "cfg.data_path = \"/root/vast/scott-yang/track-mjx/data/transform_snips.h5\"\n",
    "cfg.train_setup.checkpoint_to_restore = ckpt_path"
   ]
  },
  {
   "cell_type": "markdown",
   "metadata": {},
   "source": [
    "### Restore policy and make rollout functions"
   ]
  },
  {
   "cell_type": "code",
   "execution_count": 27,
   "metadata": {},
   "outputs": [
    {
     "name": "stdout",
     "output_type": "stream",
     "text": [
      "Converting to torque actuators\n",
      "Rescaling body tree with scale factor 0.9\n"
     ]
    }
   ],
   "source": [
    "cfg = OmegaConf.create(cfg)\n",
    "env = rollout.create_environment(cfg)\n",
    "inference_fn = checkpointing.load_inference_fn(cfg, ckpt[\"policy\"])\n",
    "generate_rollout = rollout.create_rollout_generator(cfg, env, inference_fn, model=\"mlp\")"
   ]
  },
  {
   "cell_type": "markdown",
   "metadata": {},
   "source": [
    "### Generate rollouts from the checkpoint\n",
    "\n",
    "After we load the checkpoint, we can do inference on the rollout!"
   ]
  },
  {
   "cell_type": "markdown",
   "metadata": {},
   "source": [
    "We can generate a rollout imitating single clip, specified by the clip index. The first time you call the function there will be ~1-3min of compilation time, after which it will take only a few seconds."
   ]
  },
  {
   "cell_type": "code",
   "execution_count": null,
   "metadata": {},
   "outputs": [],
   "source": [
    "clip_idx = 0\n",
    "single_rollout = generate_rollout(clip_idx=clip_idx, seed=0)"
   ]
  },
  {
   "cell_type": "code",
   "execution_count": null,
   "metadata": {},
   "outputs": [],
   "source": [
    "frames, render_fps = render.render_rollout(cfg, single_rollout)\n",
    "render.display_video(frames, framerate=render_fps)"
   ]
  },
  {
   "cell_type": "markdown",
   "metadata": {},
   "source": [
    "#### Batch Generating Rollouts\n",
    "\n",
    "Alternatively, you can use `jax.vmap` to parallelize the rollout function. This is useful for performing a rollout over an entire dataset for eval/analysis purposes. We pass in a 1D array of clip indexes (`clip_idxs`) as input. \n",
    "\n",
    "The first run for this will also have a few minutes of compilation time.\n",
    "\n",
    "**Note:** `vmap` compiles based on the input shape. This means that if you use the same length for `clip_idxs`, JAX will reuse the compiled function for acceleration. However, if the input length changes, JAX will **recompile the entire function**, incurring additional overhead."
   ]
  },
  {
   "cell_type": "code",
   "execution_count": null,
   "metadata": {},
   "outputs": [],
   "source": [
    "# Generate rollout for 5 clips simultaneously\n",
    "jit_vmap_generate_rollout = jax.jit(jax.vmap(generate_rollout))\n",
    "clip_idxs = jp.arange(0, 5)\n",
    "jit_vmap_out = jit_vmap_generate_rollout(clip_idxs)"
   ]
  },
  {
   "cell_type": "code",
   "execution_count": 4,
   "metadata": {},
   "outputs": [],
   "source": [
    "jit_vmap_generate_rollout = jax.jit(jax.vmap(generate_rollout))"
   ]
  },
  {
   "cell_type": "code",
   "execution_count": 5,
   "metadata": {},
   "outputs": [
    {
     "name": "stdout",
     "output_type": "stream",
     "text": [
      "Saving rollout to /root/vast/scott-yang/track-mjx/model_checkpoints/250521_200910/rollout_0_421.h5\n"
     ]
    }
   ],
   "source": [
    "clip_idxs = jp.arange(0, 421)\n",
    "jit_vmap_out = jit_vmap_generate_rollout(clip_idxs)\n",
    "\n",
    "keys = [\"qposes_ref\", \"qposes_rollout\"]\n",
    "masked = {key: jit_vmap_out[key] for key in keys}\n",
    "\n",
    "save_path = Path(ckpt_path) / f\"rollout_0_421.h5\"\n",
    "print(f\"Saving rollout to {save_path}\")\n",
    "utils.save_to_h5py(save_path.resolve(), masked)"
   ]
  },
  {
   "cell_type": "code",
   "execution_count": 6,
   "metadata": {},
   "outputs": [
    {
     "name": "stdout",
     "output_type": "stream",
     "text": [
      "Saving rollout to /root/vast/scott-yang/track-mjx/model_checkpoints/250521_200910/rollout_421_842.h5\n"
     ]
    }
   ],
   "source": [
    "clip_idxs = jp.arange(421, 842)\n",
    "jit_vmap_out = jit_vmap_generate_rollout(clip_idxs)\n",
    "\n",
    "keys = [\"qposes_ref\", \"qposes_rollout\"]\n",
    "masked = {key: jit_vmap_out[key] for key in keys}\n",
    "\n",
    "save_path = Path(ckpt_path) / f\"rollout_421_842.h5\"\n",
    "print(f\"Saving rollout to {save_path}\")\n",
    "utils.save_to_h5py(save_path.resolve(), masked)"
   ]
  },
  {
   "cell_type": "markdown",
   "metadata": {},
   "source": [
    "### Step 4: Save it to disk"
   ]
  },
  {
   "cell_type": "code",
   "execution_count": null,
   "metadata": {},
   "outputs": [],
   "source": [
    "save_path = Path(ckpt_path) / f\"rollout_{clip_idx}.h5\"\n",
    "print(f\"Saving rollout to {save_path}\")"
   ]
  },
  {
   "cell_type": "code",
   "execution_count": null,
   "metadata": {},
   "outputs": [],
   "source": [
    "utils.save_to_h5py(save_path.resolve(), single_rollout)"
   ]
  },
  {
   "cell_type": "markdown",
   "metadata": {},
   "source": [
    "# Render Rollout Videos from the Saved Rollouts"
   ]
  },
  {
   "cell_type": "markdown",
   "metadata": {},
   "source": [
    "## Load the rollout file"
   ]
  },
  {
   "cell_type": "code",
   "execution_count": null,
   "metadata": {},
   "outputs": [],
   "source": [
    "rollout = utils.load_from_h5py(save_path)"
   ]
  },
  {
   "cell_type": "markdown",
   "metadata": {},
   "source": [
    "## Render rollout\n",
    "\n",
    "Note: Currently only works for single rollouts"
   ]
  },
  {
   "cell_type": "code",
   "execution_count": null,
   "metadata": {},
   "outputs": [],
   "source": [
    "frames, realtime_framerate = render.render_rollout(cfg, single_rollout)\n",
    "render.display_video(frames, framerate=realtime_framerate)"
   ]
  },
  {
   "cell_type": "markdown",
   "metadata": {},
   "source": [
    "# Batch Rollout & Save Locally"
   ]
  },
  {
   "cell_type": "code",
   "execution_count": null,
   "metadata": {},
   "outputs": [],
   "source": [
    "from track_mjx.analysis.utils import save_to_h5py\n",
    "from tqdm import tqdm\n",
    "import h5py\n",
    "\n",
    "for i in tqdm(range(0, 800)):\n",
    "    output = generate_rollout(i)\n",
    "    path = f\"/root/vast/kaiwen/track-mjx/force_analysis_rollout_charles/clip_{i}.h5\"\n",
    "    save_to_h5py(path, output)"
   ]
  },
  {
   "cell_type": "code",
   "execution_count": null,
   "metadata": {},
   "outputs": [],
   "source": []
  }
 ],
 "metadata": {
  "kernelspec": {
   "display_name": "track-mjx",
   "language": "python",
   "name": "python3"
  },
  "language_info": {
   "codemirror_mode": {
    "name": "ipython",
    "version": 3
   },
   "file_extension": ".py",
   "mimetype": "text/x-python",
   "name": "python",
   "nbconvert_exporter": "python",
   "pygments_lexer": "ipython3",
   "version": "3.11.10"
  }
 },
 "nbformat": 4,
 "nbformat_minor": 2
}
