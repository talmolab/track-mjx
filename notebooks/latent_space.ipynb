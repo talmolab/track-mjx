{
 "cells": [
  {
   "cell_type": "code",
   "execution_count": 1,
   "metadata": {},
   "outputs": [],
   "source": [
    "import os\n",
    "import logging\n",
    "# Send logging outputs to stdout (comment this out if preferred)\n",
    "# logger = logging.getLogger()\n",
    "# logger.setLevel(logging.INFO)\n",
    "\n",
    "# Change this to egl or glfw if available\n",
    "os.environ[\"MUJOCO_GL\"] = \"egl\"\n",
    "# TEMP\n",
    "os.environ[\"CUDA_VISIBLE_DEVICES\"] = \"1\"\n",
    "# TEMP\n",
    "    \n",
    "from track_mjx.agent import checkpointing\n",
    "from track_mjx.agent import ppo_networks as networks\n",
    "from track_mjx.environment import wrappers\n",
    "from track_mjx.analysis import rollout, render, utils\n",
    "\n",
    "import jax\n",
    "from jax import numpy as jp\n",
    "from pathlib import Path"
   ]
  },
  {
   "cell_type": "code",
   "execution_count": 2,
   "metadata": {},
   "outputs": [],
   "source": [
    "# replace with your checkpoint path\n",
    "ckpt_path = \"/n/holylabs/LABS/olveczky_lab/Users/charleszhang/track-mjx/model_checkpoints/250428_112805\"  \n",
    "# Load config from checkpoint \n",
    "ckpt = checkpointing.load_checkpoint_for_eval(ckpt_path, step=11)\n",
    "\n",
    "cfg = ckpt[\"cfg\"]\n",
    "\n",
    "# make some changes to the config\n",
    "# replace with absolute path to your data\n",
    "# -- your notebook may not have access to the same relative path\n",
    "cfg.data_path = \"/n/holylabs/LABS/olveczky_lab/Users/charleszhang/track-mjx/data/transform_snips.h5\"\n",
    "cfg.train_setup.checkpoint_to_restore = ckpt_path"
   ]
  },
  {
   "cell_type": "code",
   "execution_count": 3,
   "metadata": {},
   "outputs": [],
   "source": [
    "env = rollout.create_environment(cfg)\n",
    "decoder_policy_fn = networks.make_decoder_policy_fn(ckpt_path)"
   ]
  },
  {
   "cell_type": "code",
   "execution_count": 4,
   "metadata": {},
   "outputs": [],
   "source": [
    "highlvlenv = wrappers.HighLevelWrapper(\n",
    "    env, \n",
    "    decoder_policy_fn, \n",
    "    cfg[\"network_config\"][\"reference_obs_size\"]\n",
    ")\n",
    "rollout_env = wrappers.RenderRolloutWrapperMulticlipTracking(highlvlenv) \n",
    "latent_size = cfg[\"network_config\"][\"intention_size\"]\n"
   ]
  },
  {
   "cell_type": "code",
   "execution_count": 5,
   "metadata": {},
   "outputs": [],
   "source": [
    "key = jax.random.PRNGKey(0)\n",
    "jit_reset = jax.jit(rollout_env.reset)\n",
    "jit_step = jax.jit(rollout_env.step)"
   ]
  },
  {
   "cell_type": "code",
   "execution_count": 6,
   "metadata": {},
   "outputs": [],
   "source": [
    "@jax.jit\n",
    "def random_walk_rollout(clip_idx, scale, constant_latent=None, seed=1):\n",
    "    key = jax.random.PRNGKey(seed)\n",
    "    _, reset_rng, rollout_key = jax.random.split(key, 3)\n",
    "    init_state = jit_reset(reset_rng, clip_idx=clip_idx)\n",
    "    num_steps = (\n",
    "        int(cfg[\"reference_config\"].clip_length * rollout_env._steps_for_cur_frame) - 1\n",
    "    )\n",
    "\n",
    "    def _step_fn(carry, _):\n",
    "        state, act_rng, last_latents = carry\n",
    "        _, act_rng = jax.random.split(act_rng)\n",
    "        # action is a random walk, unless a constant latent is given\n",
    "        latents = constant_latent\n",
    "        if constant_latent is None:\n",
    "            latents = last_latents * 0.9 + ((jax.random.normal(act_rng, (latent_size), dtype=jp.float32) * scale) * 0.1)\n",
    "        next_state = jit_step(state, latents)\n",
    "        return (next_state, act_rng, latents), (next_state, latents)\n",
    "\n",
    "    # Run rollout\n",
    "    init_carry = (init_state, rollout_key, jp.zeros(latent_size))\n",
    "    (final_state, _, _), (states, ctrls) = jax.lax.scan(\n",
    "        _step_fn, init_carry, None, length=num_steps\n",
    "    )\n",
    " \n",
    "    def prepend(element, arr):\n",
    "        # Scalar elements shouldn't be modified\n",
    "        if arr.ndim == 0:\n",
    "            return arr\n",
    "\n",
    "        return jp.concatenate([element[None], arr])\n",
    "\n",
    "    rollout_states = jax.tree.map(prepend, init_state, states)\n",
    "\n",
    "    # Get metrics\n",
    "    rollout_metrics = {}\n",
    "    for rollout_metric in cfg.logging_config.rollout_metrics:\n",
    "        rollout_metrics[f\"{rollout_metric}s\"] = jax.vmap(\n",
    "            lambda s: s.metrics[rollout_metric]\n",
    "        )(rollout_states)\n",
    "\n",
    "    # Reference and rollout qposes\n",
    "    ref_traj = rollout_env._get_reference_clip(init_state.info)\n",
    "    qposes_ref = jp.repeat(\n",
    "        jp.hstack([ref_traj.position, ref_traj.quaternion, ref_traj.joints]),\n",
    "        int(rollout_env._steps_for_cur_frame),\n",
    "        axis=0,\n",
    "    )\n",
    "\n",
    "    # Collect qposes from states\n",
    "    qposes_rollout = jax.vmap(lambda s: s.pipeline_state.qpos)(rollout_states)\n",
    "\n",
    "    return {\n",
    "        \"rollout_metrics\": rollout_metrics,\n",
    "        \"observations\": jax.vmap(lambda s: s.obs)(rollout_states),\n",
    "        \"ctrl\": ctrls,\n",
    "        \"qposes_ref\": qposes_ref,\n",
    "        \"qposes_rollout\": qposes_rollout,\n",
    "        \"info\": jax.vmap(lambda s: s.info)(rollout_states),\n",
    "    }"
   ]
  },
  {
   "cell_type": "code",
   "execution_count": 11,
   "metadata": {},
   "outputs": [],
   "source": [
    "_, key = jax.random.split(key)\n",
    "rollout = random_walk_rollout(\n",
    "    clip_idx=1, \n",
    "    scale=0.01, \n",
    "    constant_latent=jax.random.normal(key, (latent_size), dtype=jp.float32) * 0.1, \n",
    "    seed=1\n",
    ")"
   ]
  },
  {
   "cell_type": "code",
   "execution_count": null,
   "metadata": {},
   "outputs": [],
   "source": [
    "frames, realtime_framerate = render.render_rollout(cfg, rollout)\n",
    "render.display_video(frames, framerate=realtime_framerate)"
   ]
  },
  {
   "cell_type": "code",
   "execution_count": null,
   "metadata": {},
   "outputs": [],
   "source": []
  }
 ],
 "metadata": {
  "kernelspec": {
   "display_name": "Python 3",
   "language": "python",
   "name": "python3"
  },
  "language_info": {
   "codemirror_mode": {
    "name": "ipython",
    "version": 3
   },
   "file_extension": ".py",
   "mimetype": "text/x-python",
   "name": "python",
   "nbconvert_exporter": "python",
   "pygments_lexer": "ipython3",
   "version": "3.11.11"
  }
 },
 "nbformat": 4,
 "nbformat_minor": 2
}
